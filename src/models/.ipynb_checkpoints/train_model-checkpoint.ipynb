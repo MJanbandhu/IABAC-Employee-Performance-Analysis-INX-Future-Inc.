{
 "cells": [
  {
   "cell_type": "code",
   "execution_count": 1,
   "id": "cda06085",
   "metadata": {},
   "outputs": [],
   "source": [
    "# Here I'm trying to train model"
   ]
  },
  {
   "cell_type": "code",
   "execution_count": 2,
   "id": "948e446b",
   "metadata": {},
   "outputs": [],
   "source": [
    "import numpy as np \n",
    "import pandas as pd\n",
    "import seaborn as sns\n",
    "import matplotlib.pyplot as plt\n",
    "\n",
    "import warnings\n",
    "warnings.filterwarnings('ignore')"
   ]
  },
  {
   "cell_type": "code",
   "execution_count": 3,
   "id": "a6cdd6db",
   "metadata": {},
   "outputs": [],
   "source": [
    "# Loading dataset\n",
    "data1=pd.read_csv(\"E:\\\\Data Mites\\\\MyProject\\\\IABAC Project\\\\ProjectDir\\\\data\\\\processed\\\\DummiesFile.csv\")"
   ]
  },
  {
   "cell_type": "code",
   "execution_count": 4,
   "id": "1a0e8cb9",
   "metadata": {},
   "outputs": [],
   "source": [
    "# creating data into x and y\n",
    "x=data1.drop('PerformanceRating',axis=1)\n",
    "y=data1[['PerformanceRating']]"
   ]
  },
  {
   "cell_type": "code",
   "execution_count": 5,
   "id": "1ada9e3c",
   "metadata": {},
   "outputs": [],
   "source": [
    "# creating data for training and testing\n",
    "from sklearn.model_selection import train_test_split\n",
    "x_train,x_test,y_train,y_test=train_test_split(x,y,test_size=0.30,random_state=2)"
   ]
  },
  {
   "cell_type": "markdown",
   "id": "43445396",
   "metadata": {},
   "source": [
    "### PCA\n",
    "   - Use Case: PCA can be used as part of the modeling process to reduce overfitting and improve the generalization performance of the model.\n",
    "   - Steps: Apply PCA to the training data before fitting the model. This can help reduce the dimensionality of the feature space and remove noise or irrelevant features."
   ]
  },
  {
   "cell_type": "code",
   "execution_count": 6,
   "id": "28a5d5af",
   "metadata": {},
   "outputs": [
    {
     "data": {
      "image/png": "[encoded data removed]",
      "text/plain": [
       "<Figure size 640x480 with 1 Axes>"
      ]
     },
     "metadata": {},
     "output_type": "display_data"
    }
   ],
   "source": [
    "## getting the optimal number of pca\n",
    "from sklearn.decomposition import PCA\n",
    "pca = PCA()\n",
    "principalComponents = pca.fit_transform(data1)\n",
    "plt.figure()\n",
    "plt.plot(np.cumsum(pca.explained_variance_ratio_))\n",
    "plt.xlabel('Number of Components')\n",
    "plt.ylabel('Variance (%)') #for each component\n",
    "plt.title('Explained Variance')\n",
    "plt.show()"
   ]
  },
  {
   "cell_type": "markdown",
   "id": "2aa25aa9",
   "metadata": {},
   "source": [
    "### Dicesion Tree Algorithm"
   ]
  },
  {
   "cell_type": "code",
   "execution_count": 7,
   "id": "2d006b8e",
   "metadata": {},
   "outputs": [],
   "source": [
    "## Balacing the data\n",
    "# SMOTE (Synthetic Minority Over-sampling Technique) is a technique used to address class imbalance in machine learning datasets. It's commonly applied to classification problems where one class (the minority class) is significantly underrepresented compared to another class (the majority class).\n",
    "from collections import Counter# importing counter to check count of each label\n",
    "from imblearn.over_sampling import SMOTE #for balancing the data\n",
    "sm=SMOTE()\n",
    "x_smote,y_smote=sm.fit_resample(x_train,y_train)"
   ]
  },
  {
   "cell_type": "code",
   "execution_count": 8,
   "id": "e2d5b863",
   "metadata": {},
   "outputs": [
    {
     "name": "stdout",
     "output_type": "stream",
     "text": [
      "actual Counter({'PerformanceRating': 1})\n",
      "after smote Counter({'PerformanceRating': 1})\n"
     ]
    }
   ],
   "source": [
    "print(\"actual\",Counter(y_train))\n",
    "print(\"after smote\",Counter(y_smote))"
   ]
  },
  {
   "cell_type": "code",
   "execution_count": 9,
   "id": "ed5dc7f3",
   "metadata": {},
   "outputs": [],
   "source": [
    "# creating decision tree model\n",
    "from sklearn.tree import DecisionTreeClassifier\n",
    "dtree=DecisionTreeClassifier() # model \n",
    "dtree.fit(x_smote,y_smote)\n",
    "y_predic=dtree.predict(x_test)"
   ]
  },
  {
   "cell_type": "code",
   "execution_count": 10,
   "id": "4ed49aa4",
   "metadata": {},
   "outputs": [
    {
     "name": "stdout",
     "output_type": "stream",
     "text": [
      "This is train model of Decision Tree [4 3 2 3 3 3 3 3 3 3 2 3 2 4 3 3 3 3 3 3 3 3 3 3 2 2 3 4 3 2 3 3 4 3 3 4 3\n",
      " 3 3 3 3 3 3 3 2 3 3 4 2 3 2 3 3 4 3 3 3 3 3 2 3 2 3 3 3 3 3 3 3 3 3 2 3 3\n",
      " 3 3 3 3 2 3 2 3 3 3 2 3 3 3 3 3 3 3 3 3 2 2 2 3 3 4 2 2 2 3 4 4 2 3 3 3 3\n",
      " 3 3 3 2 2 2 3 3 2 2 3 3 4 3 3 2 3 3 3 3 3 2 3 3 3 3 3 2 3 3 3 3 3 3 4 3 3\n",
      " 3 3 3 4 3 3 2 2 3 3 3 4 3 3 3 3 3 3 3 3 3 4 3 2 3 3 3 3 3 3 3 3 3 3 3 3 3\n",
      " 3 2 3 3 3 3 2 4 3 2 3 2 3 3 4 2 2 2 3 3 3 3 3 2 3 3 3 3 2 3 4 2 3 2 4 3 3\n",
      " 2 3 3 4 2 3 3 2 3 3 3 2 3 3 3 3 2 3 4 3 3 3 3 3 3 2 3 3 3 3 3 3 3 2 3 4 2\n",
      " 4 3 3 3 3 3 3 3 3 2 3 4 3 3 3 3 3 3 3 2 3 2 4 3 3 3 3 3 3 3 3 3 4 2 4 3 2\n",
      " 3 3 3 3 2 3 3 3 3 3 2 3 3 2 3 2 3 4 3 4 3 3 2 3 3 3 3 3 3 3 3 3 3 3 3 2 3\n",
      " 3 3 3 3 3 3 3 3 4 2 3 3 3 2 4 3 4 3 2 2 4 3 3 3 3 3 3 3 3 3 3 3 2 4 3 2 4\n",
      " 2 3 3 3 3 3 3 3 3 3 4 2 3 3 3 3 3 3 3 3 3 2 3 3 4 3 3 3 2 2 3 2 4 4 3 3 3\n",
      " 3 3 3 3 3 3 3 3 3 2 3 4 4 4 3 3 3 3 3 2 3 3 3 2 3 3 3 4 2 4 2 3 2 2 4 2 3\n",
      " 3 3 3 2 2 3 3 3 3 3 3 3 4 3 3 3 3 3 2 3 3 4 2 2 3 3 4 2 2 3 3 3 3 3 3 3 3\n",
      " 3 3 3 3 3 3 3 3 3 3 3 3 3 3 4 3 4 3 3 3 3 4 3 2 4 3 3 3 4 4 3 3 3 3 3 3 3\n",
      " 2 3 3 3 3 3 3 3 3 3 4 3 3 3 3 3 3 3 3 3 3 2 2 4 4 3 3 4 2 4 3 2 3 3 3 3 3\n",
      " 2 3 3 3 2 3 2 3 2 3 4 3 3 2 3 3 3 3 3 3 2 2 3 3 3 3 3 3 3 2 3 4 2 3 2 3 3\n",
      " 2 3 3 3 4 4 3 4 2 4 3 3 3 3 3 3 2 3 3 3 3 3 4 3 3 3 3 3 3 3 3 3 3 3 3 3 3\n",
      " 3 3 3 3 3 3 3 3 3 3 4 3 3 2 3 3 3 3 3 3 3 3 3 3 3 3 3 3 3 3 3 3 3 3 4 4 3\n",
      " 3 3 3 3 3 3 2 3 3 2 2 3 3 3 3 3 3 3 3 4 3 3 3 4 3 3 3 2 3 2 2 3 3 3 3 3 3\n",
      " 2 4 3 3 3 4 3 3 3 2 3 4 3 3 3 3 2 2 2 3 3 3 3 4 4 3 3 3 3 3 2 3 3 3 3 4 3\n",
      " 3 3 4 3 3 3 3 3 3 3 3 3 3 3 4 3 3 3 3 3 2 3 3 3 3 3 2 3 2 3 3 3 3 3 4 3 2\n",
      " 3 3 3 3 3 3 3 3 4 2 3 3 4 2 3 3 3 3 3 3 3 3 2 3 3 3 2 3 3 2 3 3 3 4 3 3 3\n",
      " 3 4 3 4 3 2 3 3 3 4 3 2 3 3 2 3 2 3 3 2 3 2 3 2 4 4]\n"
     ]
    }
   ],
   "source": [
    "y_train_predict=dtree.predict(x_train)#predicting training data to check training performance \n",
    "print(\"This is train model of Decision Tree\",y_train_predict)"
   ]
  },
  {
   "cell_type": "markdown",
   "id": "e49f257b",
   "metadata": {},
   "source": [
    "### Random Forest Algorithm"
   ]
  },
  {
   "cell_type": "code",
   "execution_count": 11,
   "id": "ccdc8e69",
   "metadata": {},
   "outputs": [],
   "source": [
    "# creating\n",
    "from sklearn.ensemble import RandomForestClassifier\n",
    "RForest=RandomForestClassifier()\n",
    "RForest.fit(x_smote,y_smote)\n",
    "y_pred=RForest.predict(x_test)"
   ]
  },
  {
   "cell_type": "code",
   "execution_count": 12,
   "id": "27b1d111",
   "metadata": {},
   "outputs": [
    {
     "data": {
      "text/plain": [
       "0.9305555555555556"
      ]
     },
     "execution_count": 12,
     "metadata": {},
     "output_type": "execute_result"
    }
   ],
   "source": [
    "from sklearn.metrics import confusion_matrix,accuracy_score,precision_score,recall_score,f1_score,classification_report\n",
    "accuracy_score(y_test,y_pred)"
   ]
  },
  {
   "cell_type": "markdown",
   "id": "9c9bfa8f",
   "metadata": {},
   "source": [
    "### HyperParameter Tunning For Random Forest"
   ]
  },
  {
   "cell_type": "code",
   "execution_count": 13,
   "id": "2d1f7bce",
   "metadata": {},
   "outputs": [],
   "source": [
    "from sklearn.model_selection import RandomizedSearchCV\n",
    "n_estimators = [int(x) for x in np.linspace(start=200, stop=2000, num=10)]\n",
    "max_features = ['auto', 'sqrt']\n",
    "max_depth = [int(x) for x in np.linspace(10, 110, num=11)]\n",
    "max_depth.append(None)\n",
    "min_samples_split = [2, 5, 10]\n",
    "min_samples_leaf = [1, 2, 4]\n",
    "bootstrap = [True, False] "
   ]
  },
  {
   "cell_type": "code",
   "execution_count": 14,
   "id": "70c899a8",
   "metadata": {},
   "outputs": [
    {
     "name": "stdout",
     "output_type": "stream",
     "text": [
      "Fitting 3 folds for each of 100 candidates, totalling 300 fits\n",
      "Best paramters: {'n_estimators': 1000, 'min_samples_split': 2, 'min_samples_leaf': 1, 'max_features': 'auto', 'max_depth': 50, 'bootstrap': False})\n"
     ]
    }
   ],
   "source": [
    "#dictionary for hyperparameters\n",
    "random_grid = {'n_estimators': n_estimators, 'max_features': max_features,\n",
    "               'max_depth': max_depth, 'min_samples_split': min_samples_split,\n",
    "               'min_samples_leaf': min_samples_leaf, 'bootstrap': bootstrap}\n",
    "\n",
    "rf_clf1 = RandomForestClassifier(random_state=42)#model\n",
    "\n",
    "rf_cv = RandomizedSearchCV(estimator=rf_clf1, scoring='accuracy',\n",
    "                           param_distributions=random_grid, n_iter=100, cv=3, \n",
    "                               verbose=2, random_state=42, n_jobs=-1)\n",
    "rf_cv.fit(x_smote, y_smote)\n",
    "rf_best_params = rf_cv.best_params_\n",
    "print(f\"Best paramters: {rf_best_params})\")\n",
    " "
   ]
  },
  {
   "cell_type": "code",
   "execution_count": 15,
   "id": "75ece21c",
   "metadata": {},
   "outputs": [],
   "source": [
    "rf_clf2 = RandomForestClassifier(n_estimators= 100, min_samples_split=2, min_samples_leaf= 1, max_features='auto', max_depth=20, bootstrap=False)#passing best parameter to randomforest\n",
    "rf_clf2.fit(x_smote,y_smote)\n",
    "y_predict=rf_clf2.predict(x_test)\n"
   ]
  },
  {
   "cell_type": "code",
   "execution_count": 16,
   "id": "2f0db3b2",
   "metadata": {},
   "outputs": [
    {
     "name": "stdout",
     "output_type": "stream",
     "text": [
      "This is train model of Random Forest  [4 3 2 3 3 3 3 3 3 3 2 3 2 4 3 3 3 3 3 3 3 3 3 3 2 2 3 4 3 2 3 3 4 3 3 4 3\n",
      " 3 3 3 3 3 3 3 2 3 3 4 2 3 2 3 3 4 3 3 3 3 3 2 3 2 3 3 3 3 3 3 3 3 3 2 3 3\n",
      " 3 3 3 3 2 3 2 3 3 3 2 3 3 3 3 3 3 3 3 3 2 2 2 3 3 4 2 2 2 3 4 4 2 3 3 3 3\n",
      " 3 3 3 2 2 2 3 3 2 2 3 3 4 3 3 2 3 3 3 3 3 2 3 3 3 3 3 2 3 3 3 3 3 3 4 3 3\n",
      " 3 3 3 4 3 3 2 2 3 3 3 4 3 3 3 3 3 3 3 3 3 4 3 2 3 3 3 3 3 3 3 3 3 3 3 3 3\n",
      " 3 2 3 3 3 3 2 4 3 2 3 2 3 3 4 2 2 2 3 3 3 3 3 2 3 3 3 3 2 3 4 2 3 2 4 3 3\n",
      " 2 3 3 4 2 3 3 2 3 3 3 2 3 3 3 3 2 3 4 3 3 3 3 3 3 2 3 3 3 3 3 3 3 2 3 4 2\n",
      " 4 3 3 3 3 3 3 3 3 2 3 4 3 3 3 3 3 3 3 2 3 2 4 3 3 3 3 3 3 3 3 3 4 2 4 3 2\n",
      " 3 3 3 3 2 3 3 3 3 3 2 3 3 2 3 2 3 4 3 4 3 3 2 3 3 3 3 3 3 3 3 3 3 3 3 2 3\n",
      " 3 3 3 3 3 3 3 3 4 2 3 3 3 2 4 3 4 3 2 2 4 3 3 3 3 3 3 3 3 3 3 3 2 4 3 2 4\n",
      " 2 3 3 3 3 3 3 3 3 3 4 2 3 3 3 3 3 3 3 3 3 2 3 3 4 3 3 3 2 2 3 2 4 4 3 3 3\n",
      " 3 3 3 3 3 3 3 3 3 2 3 4 4 4 3 3 3 3 3 2 3 3 3 2 3 3 3 4 2 4 2 3 2 2 4 2 3\n",
      " 3 3 3 2 2 3 3 3 3 3 3 3 4 3 3 3 3 3 2 3 3 4 2 2 3 3 4 2 2 3 3 3 3 3 3 3 3\n",
      " 3 3 3 3 3 3 3 3 3 3 3 3 3 3 4 3 4 3 3 3 3 4 3 2 4 3 3 3 4 4 3 3 3 3 3 3 3\n",
      " 2 3 3 3 3 3 3 3 3 3 4 3 3 3 3 3 3 3 3 3 3 2 2 4 4 3 3 4 2 4 3 2 3 3 3 3 3\n",
      " 2 3 3 3 2 3 2 3 2 3 4 3 3 2 3 3 3 3 3 3 2 2 3 3 3 3 3 3 3 2 3 4 2 3 2 3 3\n",
      " 2 3 3 3 4 4 3 4 2 4 3 3 3 3 3 3 2 3 3 3 3 3 4 3 3 3 3 3 3 3 3 3 3 3 3 3 3\n",
      " 3 3 3 3 3 3 3 3 3 3 4 3 3 2 3 3 3 3 3 3 3 3 3 3 3 3 3 3 3 3 3 3 3 3 4 4 3\n",
      " 3 3 3 3 3 3 2 3 3 2 2 3 3 3 3 3 3 3 3 4 3 3 3 4 3 3 3 2 3 2 2 3 3 3 3 3 3\n",
      " 2 4 3 3 3 4 3 3 3 2 3 4 3 3 3 3 2 2 2 3 3 3 3 4 4 3 3 3 3 3 2 3 3 3 3 4 3\n",
      " 3 3 4 3 3 3 3 3 3 3 3 3 3 3 4 3 3 3 3 3 2 3 3 3 3 3 2 3 2 3 3 3 3 3 4 3 2\n",
      " 3 3 3 3 3 3 3 3 4 2 3 3 4 2 3 3 3 3 3 3 3 3 2 3 3 3 2 3 3 2 3 3 3 4 3 3 3\n",
      " 3 4 3 4 3 2 3 3 3 4 3 2 3 3 2 3 2 3 3 2 3 2 3 2 4 4]\n"
     ]
    }
   ],
   "source": [
    "# training accuracy\n",
    "y_train_pred=rf_clf2.predict(x_train)\n",
    "print(\"This is train model of Random Forest \",y_train_pred)"
   ]
  },
  {
   "cell_type": "markdown",
   "id": "65807f12",
   "metadata": {},
   "source": [
    "### Supper Vectore Machine Algorithm"
   ]
  },
  {
   "cell_type": "code",
   "execution_count": 17,
   "id": "805fb1d4",
   "metadata": {},
   "outputs": [
    {
     "data": {
      "text/html": [
       "<style>#sk-container-id-1 {color: black;background-color: white;}#sk-container-id-1 pre{padding: 0;}#sk-container-id-1 div.sk-toggleable {background-color: white;}#sk-container-id-1 label.sk-toggleable__label {cursor: pointer;display: block;width: 100%;margin-bottom: 0;padding: 0.3em;box-sizing: border-box;text-align: center;}#sk-container-id-1 label.sk-toggleable__label-arrow:before {content: \"▸\";float: left;margin-right: 0.25em;color: #696969;}#sk-container-id-1 label.sk-toggleable__label-arrow:hover:before {color: black;}#sk-container-id-1 div.sk-estimator:hover label.sk-toggleable__label-arrow:before {color: black;}#sk-container-id-1 div.sk-toggleable__content {max-height: 0;max-width: 0;overflow: hidden;text-align: left;background-color: #f0f8ff;}#sk-container-id-1 div.sk-toggleable__content pre {margin: 0.2em;color: black;border-radius: 0.25em;background-color: #f0f8ff;}#sk-container-id-1 input.sk-toggleable__control:checked~div.sk-toggleable__content {max-height: 200px;max-width: 100%;overflow: auto;}#sk-container-id-1 input.sk-toggleable__control:checked~label.sk-toggleable__label-arrow:before {content: \"▾\";}#sk-container-id-1 div.sk-estimator input.sk-toggleable__control:checked~label.sk-toggleable__label {background-color: #d4ebff;}#sk-container-id-1 div.sk-label input.sk-toggleable__control:checked~label.sk-toggleable__label {background-color: #d4ebff;}#sk-container-id-1 input.sk-hidden--visually {border: 0;clip: rect(1px 1px 1px 1px);clip: rect(1px, 1px, 1px, 1px);height: 1px;margin: -1px;overflow: hidden;padding: 0;position: absolute;width: 1px;}#sk-container-id-1 div.sk-estimator {font-family: monospace;background-color: #f0f8ff;border: 1px dotted black;border-radius: 0.25em;box-sizing: border-box;margin-bottom: 0.5em;}#sk-container-id-1 div.sk-estimator:hover {background-color: #d4ebff;}#sk-container-id-1 div.sk-parallel-item::after {content: \"\";width: 100%;border-bottom: 1px solid gray;flex-grow: 1;}#sk-container-id-1 div.sk-label:hover label.sk-toggleable__label {background-color: #d4ebff;}#sk-container-id-1 div.sk-serial::before {content: \"\";position: absolute;border-left: 1px solid gray;box-sizing: border-box;top: 0;bottom: 0;left: 50%;z-index: 0;}#sk-container-id-1 div.sk-serial {display: flex;flex-direction: column;align-items: center;background-color: white;padding-right: 0.2em;padding-left: 0.2em;position: relative;}#sk-container-id-1 div.sk-item {position: relative;z-index: 1;}#sk-container-id-1 div.sk-parallel {display: flex;align-items: stretch;justify-content: center;background-color: white;position: relative;}#sk-container-id-1 div.sk-item::before, #sk-container-id-1 div.sk-parallel-item::before {content: \"\";position: absolute;border-left: 1px solid gray;box-sizing: border-box;top: 0;bottom: 0;left: 50%;z-index: -1;}#sk-container-id-1 div.sk-parallel-item {display: flex;flex-direction: column;z-index: 1;position: relative;background-color: white;}#sk-container-id-1 div.sk-parallel-item:first-child::after {align-self: flex-end;width: 50%;}#sk-container-id-1 div.sk-parallel-item:last-child::after {align-self: flex-start;width: 50%;}#sk-container-id-1 div.sk-parallel-item:only-child::after {width: 0;}#sk-container-id-1 div.sk-dashed-wrapped {border: 1px dashed gray;margin: 0 0.4em 0.5em 0.4em;box-sizing: border-box;padding-bottom: 0.4em;background-color: white;}#sk-container-id-1 div.sk-label label {font-family: monospace;font-weight: bold;display: inline-block;line-height: 1.2em;}#sk-container-id-1 div.sk-label-container {text-align: center;}#sk-container-id-1 div.sk-container {/* jupyter's `normalize.less` sets `[hidden] { display: none; }` but bootstrap.min.css set `[hidden] { display: none !important; }` so we also need the `!important` here to be able to override the default hidden behavior on the sphinx rendered scikit-learn.org. See: https://github.com/scikit-learn/scikit-learn/issues/21755 */display: inline-block !important;position: relative;}#sk-container-id-1 div.sk-text-repr-fallback {display: none;}</style><div id=\"sk-container-id-1\" class=\"sk-top-container\"><div class=\"sk-text-repr-fallback\"><pre>SVC()</pre><b>In a Jupyter environment, please rerun this cell to show the HTML representation or trust the notebook. <br />On GitHub, the HTML representation is unable to render, please try loading this page with nbviewer.org.</b></div><div class=\"sk-container\" hidden><div class=\"sk-item\"><div class=\"sk-estimator sk-toggleable\"><input class=\"sk-toggleable__control sk-hidden--visually\" id=\"sk-estimator-id-1\" type=\"checkbox\" checked><label for=\"sk-estimator-id-1\" class=\"sk-toggleable__label sk-toggleable__label-arrow\">SVC</label><div class=\"sk-toggleable__content\"><pre>SVC()</pre></div></div></div></div></div>"
      ],
      "text/plain": [
       "SVC()"
      ]
     },
     "execution_count": 17,
     "metadata": {},
     "output_type": "execute_result"
    }
   ],
   "source": [
    "# Support Vector Classifier Model\n",
    "from sklearn.svm import SVC\n",
    "svclassifier = SVC() ## base model with default parameters\n",
    "svclassifier.fit(x_smote, y_smote)"
   ]
  },
  {
   "cell_type": "code",
   "execution_count": 18,
   "id": "b6d63107",
   "metadata": {},
   "outputs": [],
   "source": [
    "# Predict output for X_test\n",
    "y_pred=svclassifier.predict(x_test)"
   ]
  },
  {
   "cell_type": "code",
   "execution_count": 19,
   "id": "80326fd9",
   "metadata": {},
   "outputs": [],
   "source": [
    "# Predict output for X_test\n",
    "y_pred=svclassifier.predict(x_test)"
   ]
  },
  {
   "cell_type": "code",
   "execution_count": 20,
   "id": "c76b6d80",
   "metadata": {},
   "outputs": [
    {
     "name": "stdout",
     "output_type": "stream",
     "text": [
      "Fitting 5 folds for each of 120 candidates, totalling 600 fits\n",
      "[CV] END .....................C=0.1, gamma=1, random_state=1; total time=   2.5s\n",
      "[CV] END .....................C=0.1, gamma=1, random_state=1; total time=   2.5s\n",
      "[CV] END .....................C=0.1, gamma=1, random_state=1; total time=   2.6s\n",
      "[CV] END .....................C=0.1, gamma=1, random_state=1; total time=   2.5s\n",
      "[CV] END .....................C=0.1, gamma=1, random_state=1; total time=   2.5s\n",
      "[CV] END .....................C=0.1, gamma=1, random_state=2; total time=   2.6s\n",
      "[CV] END .....................C=0.1, gamma=1, random_state=2; total time=   2.5s\n",
      "[CV] END .....................C=0.1, gamma=1, random_state=2; total time=   2.5s\n",
      "[CV] END .....................C=0.1, gamma=1, random_state=2; total time=   2.5s\n",
      "[CV] END .....................C=0.1, gamma=1, random_state=2; total time=   2.5s\n",
      "[CV] END .....................C=0.1, gamma=1, random_state=3; total time=   2.5s\n",
      "[CV] END .....................C=0.1, gamma=1, random_state=3; total time=   2.5s\n",
      "[CV] END .....................C=0.1, gamma=1, random_state=3; total time=   2.5s\n",
      "[CV] END .....................C=0.1, gamma=1, random_state=3; total time=   2.6s\n",
      "[CV] END .....................C=0.1, gamma=1, random_state=3; total time=   2.5s\n",
      "[CV] END .....................C=0.1, gamma=1, random_state=4; total time=   2.6s\n",
      "[CV] END .....................C=0.1, gamma=1, random_state=4; total time=   2.5s\n",
      "[CV] END .....................C=0.1, gamma=1, random_state=4; total time=   2.5s\n",
      "[CV] END .....................C=0.1, gamma=1, random_state=4; total time=   1.9s\n",
      "[CV] END .....................C=0.1, gamma=1, random_state=4; total time=   1.5s\n",
      "[CV] END ...................C=0.1, gamma=0.1, random_state=1; total time=   1.5s\n",
      "[CV] END ...................C=0.1, gamma=0.1, random_state=1; total time=   1.5s\n",
      "[CV] END ...................C=0.1, gamma=0.1, random_state=1; total time=   1.5s\n",
      "[CV] END ...................C=0.1, gamma=0.1, random_state=1; total time=   1.5s\n",
      "[CV] END ...................C=0.1, gamma=0.1, random_state=1; total time=   1.5s\n",
      "[CV] END ...................C=0.1, gamma=0.1, random_state=2; total time=   1.5s\n",
      "[CV] END ...................C=0.1, gamma=0.1, random_state=2; total time=   1.5s\n",
      "[CV] END ...................C=0.1, gamma=0.1, random_state=2; total time=   1.5s\n",
      "[CV] END ...................C=0.1, gamma=0.1, random_state=2; total time=   1.5s\n",
      "[CV] END ...................C=0.1, gamma=0.1, random_state=2; total time=   1.5s\n",
      "[CV] END ...................C=0.1, gamma=0.1, random_state=3; total time=   1.5s\n",
      "[CV] END ...................C=0.1, gamma=0.1, random_state=3; total time=   1.5s\n",
      "[CV] END ...................C=0.1, gamma=0.1, random_state=3; total time=   1.6s\n",
      "[CV] END ...................C=0.1, gamma=0.1, random_state=3; total time=   1.5s\n",
      "[CV] END ...................C=0.1, gamma=0.1, random_state=3; total time=   1.5s\n",
      "[CV] END ...................C=0.1, gamma=0.1, random_state=4; total time=   1.6s\n",
      "[CV] END ...................C=0.1, gamma=0.1, random_state=4; total time=   1.5s\n",
      "[CV] END ...................C=0.1, gamma=0.1, random_state=4; total time=   1.5s\n",
      "[CV] END ...................C=0.1, gamma=0.1, random_state=4; total time=   1.5s\n",
      "[CV] END ...................C=0.1, gamma=0.1, random_state=4; total time=   1.5s\n",
      "[CV] END ..................C=0.1, gamma=0.01, random_state=1; total time=   1.3s\n",
      "[CV] END ..................C=0.1, gamma=0.01, random_state=1; total time=   1.3s\n",
      "[CV] END ..................C=0.1, gamma=0.01, random_state=1; total time=   1.3s\n",
      "[CV] END ..................C=0.1, gamma=0.01, random_state=1; total time=   1.3s\n",
      "[CV] END ..................C=0.1, gamma=0.01, random_state=1; total time=   1.3s\n",
      "[CV] END ..................C=0.1, gamma=0.01, random_state=2; total time=   1.3s\n",
      "[CV] END ..................C=0.1, gamma=0.01, random_state=2; total time=   1.3s\n",
      "[CV] END ..................C=0.1, gamma=0.01, random_state=2; total time=   1.3s\n",
      "[CV] END ..................C=0.1, gamma=0.01, random_state=2; total time=   1.3s\n",
      "[CV] END ..................C=0.1, gamma=0.01, random_state=2; total time=   1.3s\n",
      "[CV] END ..................C=0.1, gamma=0.01, random_state=3; total time=   1.3s\n",
      "[CV] END ..................C=0.1, gamma=0.01, random_state=3; total time=   1.3s\n",
      "[CV] END ..................C=0.1, gamma=0.01, random_state=3; total time=   1.3s\n",
      "[CV] END ..................C=0.1, gamma=0.01, random_state=3; total time=   1.3s\n",
      "[CV] END ..................C=0.1, gamma=0.01, random_state=3; total time=   1.3s\n",
      "[CV] END ..................C=0.1, gamma=0.01, random_state=4; total time=   0.0s\n",
      "[CV] END ..................C=0.1, gamma=0.01, random_state=4; total time=   0.0s\n",
      "[CV] END ..................C=0.1, gamma=0.01, random_state=4; total time=   0.0s\n",
      "[CV] END ..................C=0.1, gamma=0.01, random_state=4; total time=   0.0s\n",
      "[CV] END ..................C=0.1, gamma=0.01, random_state=4; total time=   0.0s\n",
      "[CV] END .................C=0.1, gamma=0.001, random_state=1; total time=   0.0s\n",
      "[CV] END .................C=0.1, gamma=0.001, random_state=1; total time=   0.0s\n",
      "[CV] END .................C=0.1, gamma=0.001, random_state=1; total time=   0.0s\n",
      "[CV] END .................C=0.1, gamma=0.001, random_state=1; total time=   0.0s\n",
      "[CV] END .................C=0.1, gamma=0.001, random_state=1; total time=   0.0s\n",
      "[CV] END .................C=0.1, gamma=0.001, random_state=2; total time=   0.0s\n",
      "[CV] END .................C=0.1, gamma=0.001, random_state=2; total time=   0.0s\n",
      "[CV] END .................C=0.1, gamma=0.001, random_state=2; total time=   0.0s\n",
      "[CV] END .................C=0.1, gamma=0.001, random_state=2; total time=   0.0s\n",
      "[CV] END .................C=0.1, gamma=0.001, random_state=2; total time=   0.0s\n",
      "[CV] END .................C=0.1, gamma=0.001, random_state=3; total time=   0.0s\n",
      "[CV] END .................C=0.1, gamma=0.001, random_state=3; total time=   0.0s\n",
      "[CV] END .................C=0.1, gamma=0.001, random_state=3; total time=   0.0s\n",
      "[CV] END .................C=0.1, gamma=0.001, random_state=3; total time=   0.0s\n",
      "[CV] END .................C=0.1, gamma=0.001, random_state=3; total time=   0.0s\n",
      "[CV] END .................C=0.1, gamma=0.001, random_state=4; total time=   0.0s\n",
      "[CV] END .................C=0.1, gamma=0.001, random_state=4; total time=   0.0s\n",
      "[CV] END .................C=0.1, gamma=0.001, random_state=4; total time=   0.0s\n",
      "[CV] END .................C=0.1, gamma=0.001, random_state=4; total time=   0.0s\n",
      "[CV] END .................C=0.1, gamma=0.001, random_state=4; total time=   0.0s\n",
      "[CV] END .................C=0.1, gamma=0.001, random_state=1; total time=   0.0s\n",
      "[CV] END .................C=0.1, gamma=0.001, random_state=1; total time=   0.0s\n",
      "[CV] END .................C=0.1, gamma=0.001, random_state=1; total time=   0.0s\n",
      "[CV] END .................C=0.1, gamma=0.001, random_state=1; total time=   0.0s\n",
      "[CV] END .................C=0.1, gamma=0.001, random_state=1; total time=   0.0s\n",
      "[CV] END .................C=0.1, gamma=0.001, random_state=2; total time=   0.0s\n",
      "[CV] END .................C=0.1, gamma=0.001, random_state=2; total time=   0.0s\n",
      "[CV] END .................C=0.1, gamma=0.001, random_state=2; total time=   0.0s\n",
      "[CV] END .................C=0.1, gamma=0.001, random_state=2; total time=   0.0s\n",
      "[CV] END .................C=0.1, gamma=0.001, random_state=2; total time=   0.0s\n",
      "[CV] END .................C=0.1, gamma=0.001, random_state=3; total time=   0.0s\n",
      "[CV] END .................C=0.1, gamma=0.001, random_state=3; total time=   0.0s\n",
      "[CV] END .................C=0.1, gamma=0.001, random_state=3; total time=   0.0s\n",
      "[CV] END .................C=0.1, gamma=0.001, random_state=3; total time=   0.0s\n",
      "[CV] END .................C=0.1, gamma=0.001, random_state=3; total time=   0.0s\n",
      "[CV] END .................C=0.1, gamma=0.001, random_state=4; total time=   0.0s\n",
      "[CV] END .................C=0.1, gamma=0.001, random_state=4; total time=   0.0s\n",
      "[CV] END .................C=0.1, gamma=0.001, random_state=4; total time=   0.0s\n",
      "[CV] END .................C=0.1, gamma=0.001, random_state=4; total time=   0.0s\n",
      "[CV] END .................C=0.1, gamma=0.001, random_state=4; total time=   0.0s\n",
      "[CV] END .......................C=5, gamma=1, random_state=1; total time=   0.0s\n",
      "[CV] END .......................C=5, gamma=1, random_state=1; total time=   0.0s\n"
     ]
    },
    {
     "name": "stdout",
     "output_type": "stream",
     "text": [
      "[CV] END .......................C=5, gamma=1, random_state=1; total time=   0.0s\n",
      "[CV] END .......................C=5, gamma=1, random_state=1; total time=   0.0s\n",
      "[CV] END .......................C=5, gamma=1, random_state=1; total time=   0.0s\n",
      "[CV] END .......................C=5, gamma=1, random_state=2; total time=   0.0s\n",
      "[CV] END .......................C=5, gamma=1, random_state=2; total time=   0.0s\n",
      "[CV] END .......................C=5, gamma=1, random_state=2; total time=   0.0s\n",
      "[CV] END .......................C=5, gamma=1, random_state=2; total time=   0.0s\n",
      "[CV] END .......................C=5, gamma=1, random_state=2; total time=   0.0s\n",
      "[CV] END .......................C=5, gamma=1, random_state=3; total time=   0.0s\n",
      "[CV] END .......................C=5, gamma=1, random_state=3; total time=   0.0s\n",
      "[CV] END .......................C=5, gamma=1, random_state=3; total time=   0.0s\n",
      "[CV] END .......................C=5, gamma=1, random_state=3; total time=   0.0s\n",
      "[CV] END .......................C=5, gamma=1, random_state=3; total time=   0.0s\n",
      "[CV] END .......................C=5, gamma=1, random_state=4; total time=   0.0s\n",
      "[CV] END .......................C=5, gamma=1, random_state=4; total time=   0.0s\n",
      "[CV] END .......................C=5, gamma=1, random_state=4; total time=   0.0s\n",
      "[CV] END .......................C=5, gamma=1, random_state=4; total time=   0.0s\n",
      "[CV] END .......................C=5, gamma=1, random_state=4; total time=   0.0s\n",
      "[CV] END .....................C=5, gamma=0.1, random_state=1; total time=   0.0s\n",
      "[CV] END .....................C=5, gamma=0.1, random_state=1; total time=   0.0s\n",
      "[CV] END .....................C=5, gamma=0.1, random_state=1; total time=   0.0s\n",
      "[CV] END .....................C=5, gamma=0.1, random_state=1; total time=   0.0s\n",
      "[CV] END .....................C=5, gamma=0.1, random_state=1; total time=   0.0s\n",
      "[CV] END .....................C=5, gamma=0.1, random_state=2; total time=   0.0s\n",
      "[CV] END .....................C=5, gamma=0.1, random_state=2; total time=   0.0s\n",
      "[CV] END .....................C=5, gamma=0.1, random_state=2; total time=   0.0s\n",
      "[CV] END .....................C=5, gamma=0.1, random_state=2; total time=   0.0s\n",
      "[CV] END .....................C=5, gamma=0.1, random_state=2; total time=   0.0s\n",
      "[CV] END .....................C=5, gamma=0.1, random_state=3; total time=   0.0s\n",
      "[CV] END .....................C=5, gamma=0.1, random_state=3; total time=   0.0s\n",
      "[CV] END .....................C=5, gamma=0.1, random_state=3; total time=   0.0s\n",
      "[CV] END .....................C=5, gamma=0.1, random_state=3; total time=   0.0s\n",
      "[CV] END .....................C=5, gamma=0.1, random_state=3; total time=   0.0s\n",
      "[CV] END .....................C=5, gamma=0.1, random_state=4; total time=   0.0s\n",
      "[CV] END .....................C=5, gamma=0.1, random_state=4; total time=   0.0s\n",
      "[CV] END .....................C=5, gamma=0.1, random_state=4; total time=   0.0s\n",
      "[CV] END .....................C=5, gamma=0.1, random_state=4; total time=   0.0s\n",
      "[CV] END .....................C=5, gamma=0.1, random_state=4; total time=   0.0s\n",
      "[CV] END ....................C=5, gamma=0.01, random_state=1; total time=   0.0s\n",
      "[CV] END ....................C=5, gamma=0.01, random_state=1; total time=   0.0s\n",
      "[CV] END ....................C=5, gamma=0.01, random_state=1; total time=   0.0s\n",
      "[CV] END ....................C=5, gamma=0.01, random_state=1; total time=   0.0s\n",
      "[CV] END ....................C=5, gamma=0.01, random_state=1; total time=   0.0s\n",
      "[CV] END ....................C=5, gamma=0.01, random_state=2; total time=   0.0s\n",
      "[CV] END ....................C=5, gamma=0.01, random_state=2; total time=   0.0s\n",
      "[CV] END ....................C=5, gamma=0.01, random_state=2; total time=   0.0s\n",
      "[CV] END ....................C=5, gamma=0.01, random_state=2; total time=   0.0s\n",
      "[CV] END ....................C=5, gamma=0.01, random_state=2; total time=   0.0s\n",
      "[CV] END ....................C=5, gamma=0.01, random_state=3; total time=   0.0s\n",
      "[CV] END ....................C=5, gamma=0.01, random_state=3; total time=   0.0s\n",
      "[CV] END ....................C=5, gamma=0.01, random_state=3; total time=   0.0s\n",
      "[CV] END ....................C=5, gamma=0.01, random_state=3; total time=   0.0s\n",
      "[CV] END ....................C=5, gamma=0.01, random_state=3; total time=   0.0s\n",
      "[CV] END ....................C=5, gamma=0.01, random_state=4; total time=   0.0s\n",
      "[CV] END ....................C=5, gamma=0.01, random_state=4; total time=   0.0s\n",
      "[CV] END ....................C=5, gamma=0.01, random_state=4; total time=   0.0s\n",
      "[CV] END ....................C=5, gamma=0.01, random_state=4; total time=   0.0s\n",
      "[CV] END ....................C=5, gamma=0.01, random_state=4; total time=   0.0s\n",
      "[CV] END ...................C=5, gamma=0.001, random_state=1; total time=   0.0s\n",
      "[CV] END ...................C=5, gamma=0.001, random_state=1; total time=   0.0s\n",
      "[CV] END ...................C=5, gamma=0.001, random_state=1; total time=   0.0s\n",
      "[CV] END ...................C=5, gamma=0.001, random_state=1; total time=   0.0s\n",
      "[CV] END ...................C=5, gamma=0.001, random_state=1; total time=   0.0s\n",
      "[CV] END ...................C=5, gamma=0.001, random_state=2; total time=   0.0s\n",
      "[CV] END ...................C=5, gamma=0.001, random_state=2; total time=   0.0s\n",
      "[CV] END ...................C=5, gamma=0.001, random_state=2; total time=   0.0s\n",
      "[CV] END ...................C=5, gamma=0.001, random_state=2; total time=   0.0s\n",
      "[CV] END ...................C=5, gamma=0.001, random_state=2; total time=   0.0s\n",
      "[CV] END ...................C=5, gamma=0.001, random_state=3; total time=   0.0s\n",
      "[CV] END ...................C=5, gamma=0.001, random_state=3; total time=   0.0s\n",
      "[CV] END ...................C=5, gamma=0.001, random_state=3; total time=   0.0s\n",
      "[CV] END ...................C=5, gamma=0.001, random_state=3; total time=   0.0s\n",
      "[CV] END ...................C=5, gamma=0.001, random_state=3; total time=   0.0s\n",
      "[CV] END ...................C=5, gamma=0.001, random_state=4; total time=   0.0s\n",
      "[CV] END ...................C=5, gamma=0.001, random_state=4; total time=   0.0s\n",
      "[CV] END ...................C=5, gamma=0.001, random_state=4; total time=   0.0s\n",
      "[CV] END ...................C=5, gamma=0.001, random_state=4; total time=   0.0s\n",
      "[CV] END ...................C=5, gamma=0.001, random_state=4; total time=   0.0s\n",
      "[CV] END ...................C=5, gamma=0.001, random_state=1; total time=   0.0s\n",
      "[CV] END ...................C=5, gamma=0.001, random_state=1; total time=   0.0s\n",
      "[CV] END ...................C=5, gamma=0.001, random_state=1; total time=   0.0s\n",
      "[CV] END ...................C=5, gamma=0.001, random_state=1; total time=   0.0s\n",
      "[CV] END ...................C=5, gamma=0.001, random_state=1; total time=   0.0s\n",
      "[CV] END ...................C=5, gamma=0.001, random_state=2; total time=   0.0s\n",
      "[CV] END ...................C=5, gamma=0.001, random_state=2; total time=   0.0s\n",
      "[CV] END ...................C=5, gamma=0.001, random_state=2; total time=   0.0s\n",
      "[CV] END ...................C=5, gamma=0.001, random_state=2; total time=   0.0s\n",
      "[CV] END ...................C=5, gamma=0.001, random_state=2; total time=   0.0s\n",
      "[CV] END ...................C=5, gamma=0.001, random_state=3; total time=   0.0s\n",
      "[CV] END ...................C=5, gamma=0.001, random_state=3; total time=   0.0s\n",
      "[CV] END ...................C=5, gamma=0.001, random_state=3; total time=   0.0s\n",
      "[CV] END ...................C=5, gamma=0.001, random_state=3; total time=   0.0s\n",
      "[CV] END ...................C=5, gamma=0.001, random_state=3; total time=   0.0s\n",
      "[CV] END ...................C=5, gamma=0.001, random_state=4; total time=   0.0s\n",
      "[CV] END ...................C=5, gamma=0.001, random_state=4; total time=   0.0s\n",
      "[CV] END ...................C=5, gamma=0.001, random_state=4; total time=   0.0s\n",
      "[CV] END ...................C=5, gamma=0.001, random_state=4; total time=   0.0s\n",
      "[CV] END ...................C=5, gamma=0.001, random_state=4; total time=   0.0s\n",
      "[CV] END ......................C=10, gamma=1, random_state=1; total time=   0.0s\n",
      "[CV] END ......................C=10, gamma=1, random_state=1; total time=   0.0s\n",
      "[CV] END ......................C=10, gamma=1, random_state=1; total time=   0.0s\n",
      "[CV] END ......................C=10, gamma=1, random_state=1; total time=   0.0s\n",
      "[CV] END ......................C=10, gamma=1, random_state=1; total time=   0.0s\n"
     ]
    },
    {
     "name": "stdout",
     "output_type": "stream",
     "text": [
      "[CV] END ......................C=10, gamma=1, random_state=2; total time=   0.0s\n",
      "[CV] END ......................C=10, gamma=1, random_state=2; total time=   0.0s\n",
      "[CV] END ......................C=10, gamma=1, random_state=2; total time=   0.0s\n",
      "[CV] END ......................C=10, gamma=1, random_state=2; total time=   0.0s\n",
      "[CV] END ......................C=10, gamma=1, random_state=2; total time=   0.0s\n",
      "[CV] END ......................C=10, gamma=1, random_state=3; total time=   0.0s\n",
      "[CV] END ......................C=10, gamma=1, random_state=3; total time=   0.0s\n",
      "[CV] END ......................C=10, gamma=1, random_state=3; total time=   0.0s\n",
      "[CV] END ......................C=10, gamma=1, random_state=3; total time=   0.0s\n",
      "[CV] END ......................C=10, gamma=1, random_state=3; total time=   0.0s\n",
      "[CV] END ......................C=10, gamma=1, random_state=4; total time=   0.0s\n",
      "[CV] END ......................C=10, gamma=1, random_state=4; total time=   0.0s\n",
      "[CV] END ......................C=10, gamma=1, random_state=4; total time=   0.0s\n",
      "[CV] END ......................C=10, gamma=1, random_state=4; total time=   0.0s\n",
      "[CV] END ......................C=10, gamma=1, random_state=4; total time=   0.0s\n",
      "[CV] END ....................C=10, gamma=0.1, random_state=1; total time=   0.0s\n",
      "[CV] END ....................C=10, gamma=0.1, random_state=1; total time=   0.0s\n",
      "[CV] END ....................C=10, gamma=0.1, random_state=1; total time=   0.0s\n",
      "[CV] END ....................C=10, gamma=0.1, random_state=1; total time=   0.0s\n",
      "[CV] END ....................C=10, gamma=0.1, random_state=1; total time=   0.0s\n",
      "[CV] END ....................C=10, gamma=0.1, random_state=2; total time=   0.0s\n",
      "[CV] END ....................C=10, gamma=0.1, random_state=2; total time=   0.0s\n",
      "[CV] END ....................C=10, gamma=0.1, random_state=2; total time=   0.0s\n",
      "[CV] END ....................C=10, gamma=0.1, random_state=2; total time=   0.0s\n",
      "[CV] END ....................C=10, gamma=0.1, random_state=2; total time=   0.0s\n",
      "[CV] END ....................C=10, gamma=0.1, random_state=3; total time=   0.0s\n",
      "[CV] END ....................C=10, gamma=0.1, random_state=3; total time=   0.0s\n",
      "[CV] END ....................C=10, gamma=0.1, random_state=3; total time=   0.0s\n",
      "[CV] END ....................C=10, gamma=0.1, random_state=3; total time=   0.0s\n",
      "[CV] END ....................C=10, gamma=0.1, random_state=3; total time=   0.0s\n",
      "[CV] END ....................C=10, gamma=0.1, random_state=4; total time=   0.0s\n",
      "[CV] END ....................C=10, gamma=0.1, random_state=4; total time=   0.0s\n",
      "[CV] END ....................C=10, gamma=0.1, random_state=4; total time=   0.0s\n",
      "[CV] END ....................C=10, gamma=0.1, random_state=4; total time=   0.0s\n",
      "[CV] END ....................C=10, gamma=0.1, random_state=4; total time=   0.0s\n",
      "[CV] END ...................C=10, gamma=0.01, random_state=1; total time=   0.0s\n",
      "[CV] END ...................C=10, gamma=0.01, random_state=1; total time=   0.0s\n",
      "[CV] END ...................C=10, gamma=0.01, random_state=1; total time=   0.0s\n",
      "[CV] END ...................C=10, gamma=0.01, random_state=1; total time=   0.0s\n",
      "[CV] END ...................C=10, gamma=0.01, random_state=1; total time=   0.0s\n",
      "[CV] END ...................C=10, gamma=0.01, random_state=2; total time=   0.0s\n",
      "[CV] END ...................C=10, gamma=0.01, random_state=2; total time=   0.0s\n",
      "[CV] END ...................C=10, gamma=0.01, random_state=2; total time=   0.0s\n",
      "[CV] END ...................C=10, gamma=0.01, random_state=2; total time=   0.0s\n",
      "[CV] END ...................C=10, gamma=0.01, random_state=2; total time=   0.0s\n",
      "[CV] END ...................C=10, gamma=0.01, random_state=3; total time=   0.0s\n",
      "[CV] END ...................C=10, gamma=0.01, random_state=3; total time=   0.0s\n",
      "[CV] END ...................C=10, gamma=0.01, random_state=3; total time=   0.0s\n",
      "[CV] END ...................C=10, gamma=0.01, random_state=3; total time=   0.0s\n",
      "[CV] END ...................C=10, gamma=0.01, random_state=3; total time=   0.0s\n",
      "[CV] END ...................C=10, gamma=0.01, random_state=4; total time=   0.0s\n",
      "[CV] END ...................C=10, gamma=0.01, random_state=4; total time=   0.0s\n",
      "[CV] END ...................C=10, gamma=0.01, random_state=4; total time=   0.0s\n",
      "[CV] END ...................C=10, gamma=0.01, random_state=4; total time=   0.0s\n",
      "[CV] END ...................C=10, gamma=0.01, random_state=4; total time=   0.0s\n",
      "[CV] END ..................C=10, gamma=0.001, random_state=1; total time=   0.0s\n",
      "[CV] END ..................C=10, gamma=0.001, random_state=1; total time=   0.0s\n",
      "[CV] END ..................C=10, gamma=0.001, random_state=1; total time=   0.0s\n",
      "[CV] END ..................C=10, gamma=0.001, random_state=1; total time=   0.0s\n",
      "[CV] END ..................C=10, gamma=0.001, random_state=1; total time=   0.0s\n",
      "[CV] END ..................C=10, gamma=0.001, random_state=2; total time=   0.0s\n",
      "[CV] END ..................C=10, gamma=0.001, random_state=2; total time=   0.0s\n",
      "[CV] END ..................C=10, gamma=0.001, random_state=2; total time=   0.0s\n",
      "[CV] END ..................C=10, gamma=0.001, random_state=2; total time=   0.0s\n",
      "[CV] END ..................C=10, gamma=0.001, random_state=2; total time=   0.0s\n",
      "[CV] END ..................C=10, gamma=0.001, random_state=3; total time=   0.0s\n",
      "[CV] END ..................C=10, gamma=0.001, random_state=3; total time=   0.0s\n",
      "[CV] END ..................C=10, gamma=0.001, random_state=3; total time=   0.0s\n",
      "[CV] END ..................C=10, gamma=0.001, random_state=3; total time=   0.0s\n",
      "[CV] END ..................C=10, gamma=0.001, random_state=3; total time=   0.0s\n",
      "[CV] END ..................C=10, gamma=0.001, random_state=4; total time=   0.0s\n",
      "[CV] END ..................C=10, gamma=0.001, random_state=4; total time=   0.0s\n",
      "[CV] END ..................C=10, gamma=0.001, random_state=4; total time=   0.0s\n",
      "[CV] END ..................C=10, gamma=0.001, random_state=4; total time=   0.0s\n",
      "[CV] END ..................C=10, gamma=0.001, random_state=4; total time=   0.0s\n",
      "[CV] END ..................C=10, gamma=0.001, random_state=1; total time=   0.0s\n",
      "[CV] END ..................C=10, gamma=0.001, random_state=1; total time=   0.0s\n",
      "[CV] END ..................C=10, gamma=0.001, random_state=1; total time=   0.0s\n",
      "[CV] END ..................C=10, gamma=0.001, random_state=1; total time=   0.0s\n",
      "[CV] END ..................C=10, gamma=0.001, random_state=1; total time=   0.0s\n",
      "[CV] END ..................C=10, gamma=0.001, random_state=2; total time=   0.0s\n",
      "[CV] END ..................C=10, gamma=0.001, random_state=2; total time=   0.0s\n",
      "[CV] END ..................C=10, gamma=0.001, random_state=2; total time=   0.0s\n",
      "[CV] END ..................C=10, gamma=0.001, random_state=2; total time=   0.0s\n",
      "[CV] END ..................C=10, gamma=0.001, random_state=2; total time=   0.0s\n",
      "[CV] END ..................C=10, gamma=0.001, random_state=3; total time=   0.0s\n",
      "[CV] END ..................C=10, gamma=0.001, random_state=3; total time=   0.0s\n",
      "[CV] END ..................C=10, gamma=0.001, random_state=3; total time=   0.0s\n",
      "[CV] END ..................C=10, gamma=0.001, random_state=3; total time=   0.0s\n",
      "[CV] END ..................C=10, gamma=0.001, random_state=3; total time=   0.0s\n",
      "[CV] END ..................C=10, gamma=0.001, random_state=4; total time=   0.0s\n",
      "[CV] END ..................C=10, gamma=0.001, random_state=4; total time=   0.0s\n",
      "[CV] END ..................C=10, gamma=0.001, random_state=4; total time=   0.0s\n",
      "[CV] END ..................C=10, gamma=0.001, random_state=4; total time=   0.0s\n",
      "[CV] END ..................C=10, gamma=0.001, random_state=4; total time=   0.0s\n",
      "[CV] END ......................C=50, gamma=1, random_state=1; total time=   0.0s\n",
      "[CV] END ......................C=50, gamma=1, random_state=1; total time=   0.0s\n",
      "[CV] END ......................C=50, gamma=1, random_state=1; total time=   0.0s\n",
      "[CV] END ......................C=50, gamma=1, random_state=1; total time=   0.0s\n",
      "[CV] END ......................C=50, gamma=1, random_state=1; total time=   0.0s\n",
      "[CV] END ......................C=50, gamma=1, random_state=2; total time=   0.0s\n",
      "[CV] END ......................C=50, gamma=1, random_state=2; total time=   0.0s\n",
      "[CV] END ......................C=50, gamma=1, random_state=2; total time=   0.0s\n"
     ]
    },
    {
     "name": "stdout",
     "output_type": "stream",
     "text": [
      "[CV] END ......................C=50, gamma=1, random_state=2; total time=   0.0s\n",
      "[CV] END ......................C=50, gamma=1, random_state=2; total time=   0.0s\n",
      "[CV] END ......................C=50, gamma=1, random_state=3; total time=   0.0s\n",
      "[CV] END ......................C=50, gamma=1, random_state=3; total time=   0.0s\n",
      "[CV] END ......................C=50, gamma=1, random_state=3; total time=   0.0s\n",
      "[CV] END ......................C=50, gamma=1, random_state=3; total time=   0.0s\n",
      "[CV] END ......................C=50, gamma=1, random_state=3; total time=   0.0s\n",
      "[CV] END ......................C=50, gamma=1, random_state=4; total time=   0.0s\n",
      "[CV] END ......................C=50, gamma=1, random_state=4; total time=   0.0s\n",
      "[CV] END ......................C=50, gamma=1, random_state=4; total time=   0.0s\n",
      "[CV] END ......................C=50, gamma=1, random_state=4; total time=   0.0s\n",
      "[CV] END ......................C=50, gamma=1, random_state=4; total time=   0.0s\n",
      "[CV] END ....................C=50, gamma=0.1, random_state=1; total time=   0.0s\n",
      "[CV] END ....................C=50, gamma=0.1, random_state=1; total time=   0.0s\n",
      "[CV] END ....................C=50, gamma=0.1, random_state=1; total time=   0.0s\n",
      "[CV] END ....................C=50, gamma=0.1, random_state=1; total time=   0.0s\n",
      "[CV] END ....................C=50, gamma=0.1, random_state=1; total time=   0.0s\n",
      "[CV] END ....................C=50, gamma=0.1, random_state=2; total time=   0.0s\n",
      "[CV] END ....................C=50, gamma=0.1, random_state=2; total time=   0.0s\n",
      "[CV] END ....................C=50, gamma=0.1, random_state=2; total time=   0.0s\n",
      "[CV] END ....................C=50, gamma=0.1, random_state=2; total time=   0.0s\n",
      "[CV] END ....................C=50, gamma=0.1, random_state=2; total time=   0.0s\n",
      "[CV] END ....................C=50, gamma=0.1, random_state=3; total time=   0.0s\n",
      "[CV] END ....................C=50, gamma=0.1, random_state=3; total time=   0.0s\n",
      "[CV] END ....................C=50, gamma=0.1, random_state=3; total time=   0.0s\n",
      "[CV] END ....................C=50, gamma=0.1, random_state=3; total time=   0.0s\n",
      "[CV] END ....................C=50, gamma=0.1, random_state=3; total time=   0.0s\n",
      "[CV] END ....................C=50, gamma=0.1, random_state=4; total time=   0.0s\n",
      "[CV] END ....................C=50, gamma=0.1, random_state=4; total time=   0.0s\n",
      "[CV] END ....................C=50, gamma=0.1, random_state=4; total time=   0.0s\n",
      "[CV] END ....................C=50, gamma=0.1, random_state=4; total time=   0.0s\n",
      "[CV] END ....................C=50, gamma=0.1, random_state=4; total time=   0.0s\n",
      "[CV] END ...................C=50, gamma=0.01, random_state=1; total time=   0.0s\n",
      "[CV] END ...................C=50, gamma=0.01, random_state=1; total time=   0.0s\n",
      "[CV] END ...................C=50, gamma=0.01, random_state=1; total time=   0.0s\n",
      "[CV] END ...................C=50, gamma=0.01, random_state=1; total time=   0.0s\n",
      "[CV] END ...................C=50, gamma=0.01, random_state=1; total time=   0.0s\n",
      "[CV] END ...................C=50, gamma=0.01, random_state=2; total time=   0.0s\n",
      "[CV] END ...................C=50, gamma=0.01, random_state=2; total time=   0.0s\n",
      "[CV] END ...................C=50, gamma=0.01, random_state=2; total time=   0.0s\n",
      "[CV] END ...................C=50, gamma=0.01, random_state=2; total time=   0.0s\n",
      "[CV] END ...................C=50, gamma=0.01, random_state=2; total time=   0.0s\n",
      "[CV] END ...................C=50, gamma=0.01, random_state=3; total time=   0.0s\n",
      "[CV] END ...................C=50, gamma=0.01, random_state=3; total time=   0.0s\n",
      "[CV] END ...................C=50, gamma=0.01, random_state=3; total time=   0.0s\n",
      "[CV] END ...................C=50, gamma=0.01, random_state=3; total time=   0.0s\n",
      "[CV] END ...................C=50, gamma=0.01, random_state=3; total time=   0.0s\n",
      "[CV] END ...................C=50, gamma=0.01, random_state=4; total time=   0.0s\n",
      "[CV] END ...................C=50, gamma=0.01, random_state=4; total time=   0.0s\n",
      "[CV] END ...................C=50, gamma=0.01, random_state=4; total time=   0.0s\n",
      "[CV] END ...................C=50, gamma=0.01, random_state=4; total time=   0.0s\n",
      "[CV] END ...................C=50, gamma=0.01, random_state=4; total time=   0.0s\n",
      "[CV] END ..................C=50, gamma=0.001, random_state=1; total time=   0.0s\n",
      "[CV] END ..................C=50, gamma=0.001, random_state=1; total time=   0.0s\n",
      "[CV] END ..................C=50, gamma=0.001, random_state=1; total time=   0.0s\n",
      "[CV] END ..................C=50, gamma=0.001, random_state=1; total time=   0.0s\n",
      "[CV] END ..................C=50, gamma=0.001, random_state=1; total time=   0.0s\n",
      "[CV] END ..................C=50, gamma=0.001, random_state=2; total time=   0.0s\n",
      "[CV] END ..................C=50, gamma=0.001, random_state=2; total time=   0.0s\n",
      "[CV] END ..................C=50, gamma=0.001, random_state=2; total time=   0.0s\n",
      "[CV] END ..................C=50, gamma=0.001, random_state=2; total time=   0.0s\n",
      "[CV] END ..................C=50, gamma=0.001, random_state=2; total time=   0.0s\n",
      "[CV] END ..................C=50, gamma=0.001, random_state=3; total time=   0.0s\n",
      "[CV] END ..................C=50, gamma=0.001, random_state=3; total time=   0.0s\n",
      "[CV] END ..................C=50, gamma=0.001, random_state=3; total time=   0.0s\n",
      "[CV] END ..................C=50, gamma=0.001, random_state=3; total time=   0.0s\n",
      "[CV] END ..................C=50, gamma=0.001, random_state=3; total time=   0.0s\n",
      "[CV] END ..................C=50, gamma=0.001, random_state=4; total time=   0.0s\n",
      "[CV] END ..................C=50, gamma=0.001, random_state=4; total time=   0.0s\n",
      "[CV] END ..................C=50, gamma=0.001, random_state=4; total time=   0.0s\n",
      "[CV] END ..................C=50, gamma=0.001, random_state=4; total time=   0.0s\n",
      "[CV] END ..................C=50, gamma=0.001, random_state=4; total time=   0.0s\n",
      "[CV] END ..................C=50, gamma=0.001, random_state=1; total time=   0.0s\n",
      "[CV] END ..................C=50, gamma=0.001, random_state=1; total time=   0.0s\n",
      "[CV] END ..................C=50, gamma=0.001, random_state=1; total time=   0.0s\n",
      "[CV] END ..................C=50, gamma=0.001, random_state=1; total time=   0.0s\n",
      "[CV] END ..................C=50, gamma=0.001, random_state=1; total time=   0.0s\n",
      "[CV] END ..................C=50, gamma=0.001, random_state=2; total time=   0.0s\n",
      "[CV] END ..................C=50, gamma=0.001, random_state=2; total time=   0.0s\n",
      "[CV] END ..................C=50, gamma=0.001, random_state=2; total time=   0.0s\n",
      "[CV] END ..................C=50, gamma=0.001, random_state=2; total time=   0.0s\n",
      "[CV] END ..................C=50, gamma=0.001, random_state=2; total time=   0.0s\n",
      "[CV] END ..................C=50, gamma=0.001, random_state=3; total time=   0.0s\n",
      "[CV] END ..................C=50, gamma=0.001, random_state=3; total time=   0.0s\n",
      "[CV] END ..................C=50, gamma=0.001, random_state=3; total time=   0.0s\n",
      "[CV] END ..................C=50, gamma=0.001, random_state=3; total time=   0.0s\n",
      "[CV] END ..................C=50, gamma=0.001, random_state=3; total time=   0.0s\n",
      "[CV] END ..................C=50, gamma=0.001, random_state=4; total time=   0.0s\n",
      "[CV] END ..................C=50, gamma=0.001, random_state=4; total time=   0.0s\n",
      "[CV] END ..................C=50, gamma=0.001, random_state=4; total time=   0.0s\n",
      "[CV] END ..................C=50, gamma=0.001, random_state=4; total time=   0.0s\n",
      "[CV] END ..................C=50, gamma=0.001, random_state=4; total time=   0.0s\n",
      "[CV] END ......................C=60, gamma=1, random_state=1; total time=   0.0s\n",
      "[CV] END ......................C=60, gamma=1, random_state=1; total time=   0.0s\n",
      "[CV] END ......................C=60, gamma=1, random_state=1; total time=   0.0s\n",
      "[CV] END ......................C=60, gamma=1, random_state=1; total time=   0.0s\n",
      "[CV] END ......................C=60, gamma=1, random_state=1; total time=   0.0s\n",
      "[CV] END ......................C=60, gamma=1, random_state=2; total time=   0.0s\n",
      "[CV] END ......................C=60, gamma=1, random_state=2; total time=   0.0s\n",
      "[CV] END ......................C=60, gamma=1, random_state=2; total time=   0.0s\n",
      "[CV] END ......................C=60, gamma=1, random_state=2; total time=   0.0s\n",
      "[CV] END ......................C=60, gamma=1, random_state=2; total time=   0.0s\n",
      "[CV] END ......................C=60, gamma=1, random_state=3; total time=   0.0s\n"
     ]
    },
    {
     "name": "stdout",
     "output_type": "stream",
     "text": [
      "[CV] END ......................C=60, gamma=1, random_state=3; total time=   0.0s\n",
      "[CV] END ......................C=60, gamma=1, random_state=3; total time=   0.0s\n",
      "[CV] END ......................C=60, gamma=1, random_state=3; total time=   0.0s\n",
      "[CV] END ......................C=60, gamma=1, random_state=3; total time=   0.0s\n",
      "[CV] END ......................C=60, gamma=1, random_state=4; total time=   0.0s\n",
      "[CV] END ......................C=60, gamma=1, random_state=4; total time=   0.0s\n",
      "[CV] END ......................C=60, gamma=1, random_state=4; total time=   0.0s\n",
      "[CV] END ......................C=60, gamma=1, random_state=4; total time=   0.0s\n",
      "[CV] END ......................C=60, gamma=1, random_state=4; total time=   0.0s\n",
      "[CV] END ....................C=60, gamma=0.1, random_state=1; total time=   0.0s\n",
      "[CV] END ....................C=60, gamma=0.1, random_state=1; total time=   0.0s\n",
      "[CV] END ....................C=60, gamma=0.1, random_state=1; total time=   0.0s\n",
      "[CV] END ....................C=60, gamma=0.1, random_state=1; total time=   0.0s\n",
      "[CV] END ....................C=60, gamma=0.1, random_state=1; total time=   0.0s\n",
      "[CV] END ....................C=60, gamma=0.1, random_state=2; total time=   0.0s\n",
      "[CV] END ....................C=60, gamma=0.1, random_state=2; total time=   0.0s\n",
      "[CV] END ....................C=60, gamma=0.1, random_state=2; total time=   0.0s\n",
      "[CV] END ....................C=60, gamma=0.1, random_state=2; total time=   0.0s\n",
      "[CV] END ....................C=60, gamma=0.1, random_state=2; total time=   0.0s\n",
      "[CV] END ....................C=60, gamma=0.1, random_state=3; total time=   0.0s\n",
      "[CV] END ....................C=60, gamma=0.1, random_state=3; total time=   0.0s\n",
      "[CV] END ....................C=60, gamma=0.1, random_state=3; total time=   0.0s\n",
      "[CV] END ....................C=60, gamma=0.1, random_state=3; total time=   0.0s\n",
      "[CV] END ....................C=60, gamma=0.1, random_state=3; total time=   0.0s\n",
      "[CV] END ....................C=60, gamma=0.1, random_state=4; total time=   0.0s\n",
      "[CV] END ....................C=60, gamma=0.1, random_state=4; total time=   0.0s\n",
      "[CV] END ....................C=60, gamma=0.1, random_state=4; total time=   0.0s\n",
      "[CV] END ....................C=60, gamma=0.1, random_state=4; total time=   0.0s\n",
      "[CV] END ....................C=60, gamma=0.1, random_state=4; total time=   0.0s\n",
      "[CV] END ...................C=60, gamma=0.01, random_state=1; total time=   0.0s\n",
      "[CV] END ...................C=60, gamma=0.01, random_state=1; total time=   0.0s\n",
      "[CV] END ...................C=60, gamma=0.01, random_state=1; total time=   0.0s\n",
      "[CV] END ...................C=60, gamma=0.01, random_state=1; total time=   0.0s\n",
      "[CV] END ...................C=60, gamma=0.01, random_state=1; total time=   0.0s\n",
      "[CV] END ...................C=60, gamma=0.01, random_state=2; total time=   0.0s\n",
      "[CV] END ...................C=60, gamma=0.01, random_state=2; total time=   0.0s\n",
      "[CV] END ...................C=60, gamma=0.01, random_state=2; total time=   0.0s\n",
      "[CV] END ...................C=60, gamma=0.01, random_state=2; total time=   0.0s\n",
      "[CV] END ...................C=60, gamma=0.01, random_state=2; total time=   0.0s\n",
      "[CV] END ...................C=60, gamma=0.01, random_state=3; total time=   0.0s\n",
      "[CV] END ...................C=60, gamma=0.01, random_state=3; total time=   0.0s\n",
      "[CV] END ...................C=60, gamma=0.01, random_state=3; total time=   0.0s\n",
      "[CV] END ...................C=60, gamma=0.01, random_state=3; total time=   0.0s\n",
      "[CV] END ...................C=60, gamma=0.01, random_state=3; total time=   0.0s\n",
      "[CV] END ...................C=60, gamma=0.01, random_state=4; total time=   0.0s\n",
      "[CV] END ...................C=60, gamma=0.01, random_state=4; total time=   0.0s\n",
      "[CV] END ...................C=60, gamma=0.01, random_state=4; total time=   0.0s\n",
      "[CV] END ...................C=60, gamma=0.01, random_state=4; total time=   0.0s\n",
      "[CV] END ...................C=60, gamma=0.01, random_state=4; total time=   0.0s\n",
      "[CV] END ..................C=60, gamma=0.001, random_state=1; total time=   0.0s\n",
      "[CV] END ..................C=60, gamma=0.001, random_state=1; total time=   0.0s\n",
      "[CV] END ..................C=60, gamma=0.001, random_state=1; total time=   0.0s\n",
      "[CV] END ..................C=60, gamma=0.001, random_state=1; total time=   0.0s\n",
      "[CV] END ..................C=60, gamma=0.001, random_state=1; total time=   0.0s\n",
      "[CV] END ..................C=60, gamma=0.001, random_state=2; total time=   0.0s\n",
      "[CV] END ..................C=60, gamma=0.001, random_state=2; total time=   0.0s\n",
      "[CV] END ..................C=60, gamma=0.001, random_state=2; total time=   0.0s\n",
      "[CV] END ..................C=60, gamma=0.001, random_state=2; total time=   0.0s\n",
      "[CV] END ..................C=60, gamma=0.001, random_state=2; total time=   0.0s\n",
      "[CV] END ..................C=60, gamma=0.001, random_state=3; total time=   0.0s\n",
      "[CV] END ..................C=60, gamma=0.001, random_state=3; total time=   0.0s\n",
      "[CV] END ..................C=60, gamma=0.001, random_state=3; total time=   0.0s\n",
      "[CV] END ..................C=60, gamma=0.001, random_state=3; total time=   0.0s\n",
      "[CV] END ..................C=60, gamma=0.001, random_state=3; total time=   0.0s\n",
      "[CV] END ..................C=60, gamma=0.001, random_state=4; total time=   0.0s\n",
      "[CV] END ..................C=60, gamma=0.001, random_state=4; total time=   0.0s\n",
      "[CV] END ..................C=60, gamma=0.001, random_state=4; total time=   0.0s\n",
      "[CV] END ..................C=60, gamma=0.001, random_state=4; total time=   0.0s\n",
      "[CV] END ..................C=60, gamma=0.001, random_state=4; total time=   0.0s\n",
      "[CV] END ..................C=60, gamma=0.001, random_state=1; total time=   0.0s\n",
      "[CV] END ..................C=60, gamma=0.001, random_state=1; total time=   0.0s\n",
      "[CV] END ..................C=60, gamma=0.001, random_state=1; total time=   0.0s\n",
      "[CV] END ..................C=60, gamma=0.001, random_state=1; total time=   0.0s\n",
      "[CV] END ..................C=60, gamma=0.001, random_state=1; total time=   0.0s\n",
      "[CV] END ..................C=60, gamma=0.001, random_state=2; total time=   0.0s\n",
      "[CV] END ..................C=60, gamma=0.001, random_state=2; total time=   0.0s\n",
      "[CV] END ..................C=60, gamma=0.001, random_state=2; total time=   0.0s\n",
      "[CV] END ..................C=60, gamma=0.001, random_state=2; total time=   0.0s\n",
      "[CV] END ..................C=60, gamma=0.001, random_state=2; total time=   0.0s\n",
      "[CV] END ..................C=60, gamma=0.001, random_state=3; total time=   0.0s\n",
      "[CV] END ..................C=60, gamma=0.001, random_state=3; total time=   0.0s\n",
      "[CV] END ..................C=60, gamma=0.001, random_state=3; total time=   0.0s\n",
      "[CV] END ..................C=60, gamma=0.001, random_state=3; total time=   0.0s\n",
      "[CV] END ..................C=60, gamma=0.001, random_state=3; total time=   0.0s\n",
      "[CV] END ..................C=60, gamma=0.001, random_state=4; total time=   0.0s\n",
      "[CV] END ..................C=60, gamma=0.001, random_state=4; total time=   0.0s\n",
      "[CV] END ..................C=60, gamma=0.001, random_state=4; total time=   0.0s\n",
      "[CV] END ..................C=60, gamma=0.001, random_state=4; total time=   0.0s\n",
      "[CV] END ..................C=60, gamma=0.001, random_state=4; total time=   0.0s\n",
      "[CV] END ......................C=70, gamma=1, random_state=1; total time=   0.0s\n",
      "[CV] END ......................C=70, gamma=1, random_state=1; total time=   0.0s\n",
      "[CV] END ......................C=70, gamma=1, random_state=1; total time=   0.0s\n",
      "[CV] END ......................C=70, gamma=1, random_state=1; total time=   0.0s\n",
      "[CV] END ......................C=70, gamma=1, random_state=1; total time=   0.0s\n",
      "[CV] END ......................C=70, gamma=1, random_state=2; total time=   0.0s\n",
      "[CV] END ......................C=70, gamma=1, random_state=2; total time=   0.0s\n",
      "[CV] END ......................C=70, gamma=1, random_state=2; total time=   0.0s\n",
      "[CV] END ......................C=70, gamma=1, random_state=2; total time=   0.0s\n",
      "[CV] END ......................C=70, gamma=1, random_state=2; total time=   0.0s\n",
      "[CV] END ......................C=70, gamma=1, random_state=3; total time=   0.0s\n",
      "[CV] END ......................C=70, gamma=1, random_state=3; total time=   0.0s\n",
      "[CV] END ......................C=70, gamma=1, random_state=3; total time=   0.0s\n"
     ]
    },
    {
     "name": "stdout",
     "output_type": "stream",
     "text": [
      "[CV] END ......................C=70, gamma=1, random_state=3; total time=   0.0s\n",
      "[CV] END ......................C=70, gamma=1, random_state=3; total time=   0.1s\n",
      "[CV] END ......................C=70, gamma=1, random_state=4; total time=   0.0s\n",
      "[CV] END ......................C=70, gamma=1, random_state=4; total time=   0.0s\n",
      "[CV] END ......................C=70, gamma=1, random_state=4; total time=   0.0s\n",
      "[CV] END ......................C=70, gamma=1, random_state=4; total time=   0.0s\n",
      "[CV] END ......................C=70, gamma=1, random_state=4; total time=   0.0s\n",
      "[CV] END ....................C=70, gamma=0.1, random_state=1; total time=   0.0s\n",
      "[CV] END ....................C=70, gamma=0.1, random_state=1; total time=   0.0s\n",
      "[CV] END ....................C=70, gamma=0.1, random_state=1; total time=   0.0s\n",
      "[CV] END ....................C=70, gamma=0.1, random_state=1; total time=   0.0s\n",
      "[CV] END ....................C=70, gamma=0.1, random_state=1; total time=   0.0s\n",
      "[CV] END ....................C=70, gamma=0.1, random_state=2; total time=   0.0s\n",
      "[CV] END ....................C=70, gamma=0.1, random_state=2; total time=   0.0s\n",
      "[CV] END ....................C=70, gamma=0.1, random_state=2; total time=   0.0s\n",
      "[CV] END ....................C=70, gamma=0.1, random_state=2; total time=   0.0s\n",
      "[CV] END ....................C=70, gamma=0.1, random_state=2; total time=   0.0s\n",
      "[CV] END ....................C=70, gamma=0.1, random_state=3; total time=   0.0s\n",
      "[CV] END ....................C=70, gamma=0.1, random_state=3; total time=   0.0s\n",
      "[CV] END ....................C=70, gamma=0.1, random_state=3; total time=   0.0s\n",
      "[CV] END ....................C=70, gamma=0.1, random_state=3; total time=   0.0s\n",
      "[CV] END ....................C=70, gamma=0.1, random_state=3; total time=   0.0s\n",
      "[CV] END ....................C=70, gamma=0.1, random_state=4; total time=   0.0s\n",
      "[CV] END ....................C=70, gamma=0.1, random_state=4; total time=   0.0s\n",
      "[CV] END ....................C=70, gamma=0.1, random_state=4; total time=   0.0s\n",
      "[CV] END ....................C=70, gamma=0.1, random_state=4; total time=   0.0s\n",
      "[CV] END ....................C=70, gamma=0.1, random_state=4; total time=   0.0s\n",
      "[CV] END ...................C=70, gamma=0.01, random_state=1; total time=   0.0s\n",
      "[CV] END ...................C=70, gamma=0.01, random_state=1; total time=   0.0s\n",
      "[CV] END ...................C=70, gamma=0.01, random_state=1; total time=   0.0s\n",
      "[CV] END ...................C=70, gamma=0.01, random_state=1; total time=   0.0s\n",
      "[CV] END ...................C=70, gamma=0.01, random_state=1; total time=   0.0s\n",
      "[CV] END ...................C=70, gamma=0.01, random_state=2; total time=   0.0s\n",
      "[CV] END ...................C=70, gamma=0.01, random_state=2; total time=   0.0s\n",
      "[CV] END ...................C=70, gamma=0.01, random_state=2; total time=   0.0s\n",
      "[CV] END ...................C=70, gamma=0.01, random_state=2; total time=   0.0s\n",
      "[CV] END ...................C=70, gamma=0.01, random_state=2; total time=   0.0s\n",
      "[CV] END ...................C=70, gamma=0.01, random_state=3; total time=   0.0s\n",
      "[CV] END ...................C=70, gamma=0.01, random_state=3; total time=   0.0s\n",
      "[CV] END ...................C=70, gamma=0.01, random_state=3; total time=   0.0s\n",
      "[CV] END ...................C=70, gamma=0.01, random_state=3; total time=   0.0s\n",
      "[CV] END ...................C=70, gamma=0.01, random_state=3; total time=   0.0s\n",
      "[CV] END ...................C=70, gamma=0.01, random_state=4; total time=   0.0s\n",
      "[CV] END ...................C=70, gamma=0.01, random_state=4; total time=   0.0s\n",
      "[CV] END ...................C=70, gamma=0.01, random_state=4; total time=   0.0s\n",
      "[CV] END ...................C=70, gamma=0.01, random_state=4; total time=   0.0s\n",
      "[CV] END ...................C=70, gamma=0.01, random_state=4; total time=   0.0s\n",
      "[CV] END ..................C=70, gamma=0.001, random_state=1; total time=   0.0s\n",
      "[CV] END ..................C=70, gamma=0.001, random_state=1; total time=   0.0s\n",
      "[CV] END ..................C=70, gamma=0.001, random_state=1; total time=   0.0s\n",
      "[CV] END ..................C=70, gamma=0.001, random_state=1; total time=   0.0s\n",
      "[CV] END ..................C=70, gamma=0.001, random_state=1; total time=   0.0s\n",
      "[CV] END ..................C=70, gamma=0.001, random_state=2; total time=   0.0s\n",
      "[CV] END ..................C=70, gamma=0.001, random_state=2; total time=   0.0s\n",
      "[CV] END ..................C=70, gamma=0.001, random_state=2; total time=   0.0s\n",
      "[CV] END ..................C=70, gamma=0.001, random_state=2; total time=   0.0s\n",
      "[CV] END ..................C=70, gamma=0.001, random_state=2; total time=   0.0s\n",
      "[CV] END ..................C=70, gamma=0.001, random_state=3; total time=   0.0s\n",
      "[CV] END ..................C=70, gamma=0.001, random_state=3; total time=   0.0s\n",
      "[CV] END ..................C=70, gamma=0.001, random_state=3; total time=   0.0s\n",
      "[CV] END ..................C=70, gamma=0.001, random_state=3; total time=   0.0s\n",
      "[CV] END ..................C=70, gamma=0.001, random_state=3; total time=   0.0s\n",
      "[CV] END ..................C=70, gamma=0.001, random_state=4; total time=   0.0s\n",
      "[CV] END ..................C=70, gamma=0.001, random_state=4; total time=   0.0s\n",
      "[CV] END ..................C=70, gamma=0.001, random_state=4; total time=   0.0s\n",
      "[CV] END ..................C=70, gamma=0.001, random_state=4; total time=   0.0s\n",
      "[CV] END ..................C=70, gamma=0.001, random_state=4; total time=   0.0s\n",
      "[CV] END ..................C=70, gamma=0.001, random_state=1; total time=   0.0s\n",
      "[CV] END ..................C=70, gamma=0.001, random_state=1; total time=   0.0s\n",
      "[CV] END ..................C=70, gamma=0.001, random_state=1; total time=   0.0s\n",
      "[CV] END ..................C=70, gamma=0.001, random_state=1; total time=   0.0s\n",
      "[CV] END ..................C=70, gamma=0.001, random_state=1; total time=   0.0s\n",
      "[CV] END ..................C=70, gamma=0.001, random_state=2; total time=   0.0s\n",
      "[CV] END ..................C=70, gamma=0.001, random_state=2; total time=   0.0s\n",
      "[CV] END ..................C=70, gamma=0.001, random_state=2; total time=   0.0s\n",
      "[CV] END ..................C=70, gamma=0.001, random_state=2; total time=   0.0s\n",
      "[CV] END ..................C=70, gamma=0.001, random_state=2; total time=   0.0s\n",
      "[CV] END ..................C=70, gamma=0.001, random_state=3; total time=   0.0s\n",
      "[CV] END ..................C=70, gamma=0.001, random_state=3; total time=   0.0s\n",
      "[CV] END ..................C=70, gamma=0.001, random_state=3; total time=   0.0s\n",
      "[CV] END ..................C=70, gamma=0.001, random_state=3; total time=   0.0s\n",
      "[CV] END ..................C=70, gamma=0.001, random_state=3; total time=   0.0s\n",
      "[CV] END ..................C=70, gamma=0.001, random_state=4; total time=   0.0s\n",
      "[CV] END ..................C=70, gamma=0.001, random_state=4; total time=   0.0s\n",
      "[CV] END ..................C=70, gamma=0.001, random_state=4; total time=   0.0s\n",
      "[CV] END ..................C=70, gamma=0.001, random_state=4; total time=   0.0s\n",
      "[CV] END ..................C=70, gamma=0.001, random_state=4; total time=   0.0s\n"
     ]
    },
    {
     "data": {
      "text/html": [
       "<style>#sk-container-id-2 {color: black;background-color: white;}#sk-container-id-2 pre{padding: 0;}#sk-container-id-2 div.sk-toggleable {background-color: white;}#sk-container-id-2 label.sk-toggleable__label {cursor: pointer;display: block;width: 100%;margin-bottom: 0;padding: 0.3em;box-sizing: border-box;text-align: center;}#sk-container-id-2 label.sk-toggleable__label-arrow:before {content: \"▸\";float: left;margin-right: 0.25em;color: #696969;}#sk-container-id-2 label.sk-toggleable__label-arrow:hover:before {color: black;}#sk-container-id-2 div.sk-estimator:hover label.sk-toggleable__label-arrow:before {color: black;}#sk-container-id-2 div.sk-toggleable__content {max-height: 0;max-width: 0;overflow: hidden;text-align: left;background-color: #f0f8ff;}#sk-container-id-2 div.sk-toggleable__content pre {margin: 0.2em;color: black;border-radius: 0.25em;background-color: #f0f8ff;}#sk-container-id-2 input.sk-toggleable__control:checked~div.sk-toggleable__content {max-height: 200px;max-width: 100%;overflow: auto;}#sk-container-id-2 input.sk-toggleable__control:checked~label.sk-toggleable__label-arrow:before {content: \"▾\";}#sk-container-id-2 div.sk-estimator input.sk-toggleable__control:checked~label.sk-toggleable__label {background-color: #d4ebff;}#sk-container-id-2 div.sk-label input.sk-toggleable__control:checked~label.sk-toggleable__label {background-color: #d4ebff;}#sk-container-id-2 input.sk-hidden--visually {border: 0;clip: rect(1px 1px 1px 1px);clip: rect(1px, 1px, 1px, 1px);height: 1px;margin: -1px;overflow: hidden;padding: 0;position: absolute;width: 1px;}#sk-container-id-2 div.sk-estimator {font-family: monospace;background-color: #f0f8ff;border: 1px dotted black;border-radius: 0.25em;box-sizing: border-box;margin-bottom: 0.5em;}#sk-container-id-2 div.sk-estimator:hover {background-color: #d4ebff;}#sk-container-id-2 div.sk-parallel-item::after {content: \"\";width: 100%;border-bottom: 1px solid gray;flex-grow: 1;}#sk-container-id-2 div.sk-label:hover label.sk-toggleable__label {background-color: #d4ebff;}#sk-container-id-2 div.sk-serial::before {content: \"\";position: absolute;border-left: 1px solid gray;box-sizing: border-box;top: 0;bottom: 0;left: 50%;z-index: 0;}#sk-container-id-2 div.sk-serial {display: flex;flex-direction: column;align-items: center;background-color: white;padding-right: 0.2em;padding-left: 0.2em;position: relative;}#sk-container-id-2 div.sk-item {position: relative;z-index: 1;}#sk-container-id-2 div.sk-parallel {display: flex;align-items: stretch;justify-content: center;background-color: white;position: relative;}#sk-container-id-2 div.sk-item::before, #sk-container-id-2 div.sk-parallel-item::before {content: \"\";position: absolute;border-left: 1px solid gray;box-sizing: border-box;top: 0;bottom: 0;left: 50%;z-index: -1;}#sk-container-id-2 div.sk-parallel-item {display: flex;flex-direction: column;z-index: 1;position: relative;background-color: white;}#sk-container-id-2 div.sk-parallel-item:first-child::after {align-self: flex-end;width: 50%;}#sk-container-id-2 div.sk-parallel-item:last-child::after {align-self: flex-start;width: 50%;}#sk-container-id-2 div.sk-parallel-item:only-child::after {width: 0;}#sk-container-id-2 div.sk-dashed-wrapped {border: 1px dashed gray;margin: 0 0.4em 0.5em 0.4em;box-sizing: border-box;padding-bottom: 0.4em;background-color: white;}#sk-container-id-2 div.sk-label label {font-family: monospace;font-weight: bold;display: inline-block;line-height: 1.2em;}#sk-container-id-2 div.sk-label-container {text-align: center;}#sk-container-id-2 div.sk-container {/* jupyter's `normalize.less` sets `[hidden] { display: none; }` but bootstrap.min.css set `[hidden] { display: none !important; }` so we also need the `!important` here to be able to override the default hidden behavior on the sphinx rendered scikit-learn.org. See: https://github.com/scikit-learn/scikit-learn/issues/21755 */display: inline-block !important;position: relative;}#sk-container-id-2 div.sk-text-repr-fallback {display: none;}</style><div id=\"sk-container-id-2\" class=\"sk-top-container\"><div class=\"sk-text-repr-fallback\"><pre>GridSearchCV(cv=5, estimator=SVC(),\n",
       "             param_grid={&#x27;C&#x27;: [0.1, 5, 10, 50, 60, 70],\n",
       "                         &#x27;gamma&#x27;: [1, 0.1, 0.01, 0.001, 0.001],\n",
       "                         &#x27;random_state&#x27;: [1, 2, 3, 4]},\n",
       "             scoring=&#x27;f1&#x27;, verbose=2)</pre><b>In a Jupyter environment, please rerun this cell to show the HTML representation or trust the notebook. <br />On GitHub, the HTML representation is unable to render, please try loading this page with nbviewer.org.</b></div><div class=\"sk-container\" hidden><div class=\"sk-item sk-dashed-wrapped\"><div class=\"sk-label-container\"><div class=\"sk-label sk-toggleable\"><input class=\"sk-toggleable__control sk-hidden--visually\" id=\"sk-estimator-id-2\" type=\"checkbox\" ><label for=\"sk-estimator-id-2\" class=\"sk-toggleable__label sk-toggleable__label-arrow\">GridSearchCV</label><div class=\"sk-toggleable__content\"><pre>GridSearchCV(cv=5, estimator=SVC(),\n",
       "             param_grid={&#x27;C&#x27;: [0.1, 5, 10, 50, 60, 70],\n",
       "                         &#x27;gamma&#x27;: [1, 0.1, 0.01, 0.001, 0.001],\n",
       "                         &#x27;random_state&#x27;: [1, 2, 3, 4]},\n",
       "             scoring=&#x27;f1&#x27;, verbose=2)</pre></div></div></div><div class=\"sk-parallel\"><div class=\"sk-parallel-item\"><div class=\"sk-item\"><div class=\"sk-label-container\"><div class=\"sk-label sk-toggleable\"><input class=\"sk-toggleable__control sk-hidden--visually\" id=\"sk-estimator-id-3\" type=\"checkbox\" ><label for=\"sk-estimator-id-3\" class=\"sk-toggleable__label sk-toggleable__label-arrow\">estimator: SVC</label><div class=\"sk-toggleable__content\"><pre>SVC()</pre></div></div></div><div class=\"sk-serial\"><div class=\"sk-item\"><div class=\"sk-estimator sk-toggleable\"><input class=\"sk-toggleable__control sk-hidden--visually\" id=\"sk-estimator-id-4\" type=\"checkbox\" ><label for=\"sk-estimator-id-4\" class=\"sk-toggleable__label sk-toggleable__label-arrow\">SVC</label><div class=\"sk-toggleable__content\"><pre>SVC()</pre></div></div></div></div></div></div></div></div></div></div>"
      ],
      "text/plain": [
       "GridSearchCV(cv=5, estimator=SVC(),\n",
       "             param_grid={'C': [0.1, 5, 10, 50, 60, 70],\n",
       "                         'gamma': [1, 0.1, 0.01, 0.001, 0.001],\n",
       "                         'random_state': [1, 2, 3, 4]},\n",
       "             scoring='f1', verbose=2)"
      ]
     },
     "execution_count": 20,
     "metadata": {},
     "output_type": "execute_result"
    }
   ],
   "source": [
    "#grid search CV\n",
    "from sklearn.model_selection import GridSearchCV\n",
    "\n",
    "# define hyperparameter range \n",
    "param_grid={'C':[0.1,5,10,50,60,70],'gamma':[1,0.1,0.01,0.001,0.001],'random_state':list(range(1,5))}\n",
    "\n",
    "model=SVC()\n",
    "grid=GridSearchCV(model,param_grid,verbose=2,scoring='f1',cv=5)\n",
    "grid.fit(x,y)"
   ]
  },
  {
   "cell_type": "code",
   "execution_count": 21,
   "id": "480126b1",
   "metadata": {},
   "outputs": [
    {
     "name": "stdout",
     "output_type": "stream",
     "text": [
      "{'C': 0.1, 'gamma': 1, 'random_state': 1}\n"
     ]
    }
   ],
   "source": [
    "print(grid.best_params_)"
   ]
  },
  {
   "cell_type": "code",
   "execution_count": 22,
   "id": "f32c2d2c",
   "metadata": {},
   "outputs": [
    {
     "data": {
      "text/html": [
       "<style>#sk-container-id-3 {color: black;background-color: white;}#sk-container-id-3 pre{padding: 0;}#sk-container-id-3 div.sk-toggleable {background-color: white;}#sk-container-id-3 label.sk-toggleable__label {cursor: pointer;display: block;width: 100%;margin-bottom: 0;padding: 0.3em;box-sizing: border-box;text-align: center;}#sk-container-id-3 label.sk-toggleable__label-arrow:before {content: \"▸\";float: left;margin-right: 0.25em;color: #696969;}#sk-container-id-3 label.sk-toggleable__label-arrow:hover:before {color: black;}#sk-container-id-3 div.sk-estimator:hover label.sk-toggleable__label-arrow:before {color: black;}#sk-container-id-3 div.sk-toggleable__content {max-height: 0;max-width: 0;overflow: hidden;text-align: left;background-color: #f0f8ff;}#sk-container-id-3 div.sk-toggleable__content pre {margin: 0.2em;color: black;border-radius: 0.25em;background-color: #f0f8ff;}#sk-container-id-3 input.sk-toggleable__control:checked~div.sk-toggleable__content {max-height: 200px;max-width: 100%;overflow: auto;}#sk-container-id-3 input.sk-toggleable__control:checked~label.sk-toggleable__label-arrow:before {content: \"▾\";}#sk-container-id-3 div.sk-estimator input.sk-toggleable__control:checked~label.sk-toggleable__label {background-color: #d4ebff;}#sk-container-id-3 div.sk-label input.sk-toggleable__control:checked~label.sk-toggleable__label {background-color: #d4ebff;}#sk-container-id-3 input.sk-hidden--visually {border: 0;clip: rect(1px 1px 1px 1px);clip: rect(1px, 1px, 1px, 1px);height: 1px;margin: -1px;overflow: hidden;padding: 0;position: absolute;width: 1px;}#sk-container-id-3 div.sk-estimator {font-family: monospace;background-color: #f0f8ff;border: 1px dotted black;border-radius: 0.25em;box-sizing: border-box;margin-bottom: 0.5em;}#sk-container-id-3 div.sk-estimator:hover {background-color: #d4ebff;}#sk-container-id-3 div.sk-parallel-item::after {content: \"\";width: 100%;border-bottom: 1px solid gray;flex-grow: 1;}#sk-container-id-3 div.sk-label:hover label.sk-toggleable__label {background-color: #d4ebff;}#sk-container-id-3 div.sk-serial::before {content: \"\";position: absolute;border-left: 1px solid gray;box-sizing: border-box;top: 0;bottom: 0;left: 50%;z-index: 0;}#sk-container-id-3 div.sk-serial {display: flex;flex-direction: column;align-items: center;background-color: white;padding-right: 0.2em;padding-left: 0.2em;position: relative;}#sk-container-id-3 div.sk-item {position: relative;z-index: 1;}#sk-container-id-3 div.sk-parallel {display: flex;align-items: stretch;justify-content: center;background-color: white;position: relative;}#sk-container-id-3 div.sk-item::before, #sk-container-id-3 div.sk-parallel-item::before {content: \"\";position: absolute;border-left: 1px solid gray;box-sizing: border-box;top: 0;bottom: 0;left: 50%;z-index: -1;}#sk-container-id-3 div.sk-parallel-item {display: flex;flex-direction: column;z-index: 1;position: relative;background-color: white;}#sk-container-id-3 div.sk-parallel-item:first-child::after {align-self: flex-end;width: 50%;}#sk-container-id-3 div.sk-parallel-item:last-child::after {align-self: flex-start;width: 50%;}#sk-container-id-3 div.sk-parallel-item:only-child::after {width: 0;}#sk-container-id-3 div.sk-dashed-wrapped {border: 1px dashed gray;margin: 0 0.4em 0.5em 0.4em;box-sizing: border-box;padding-bottom: 0.4em;background-color: white;}#sk-container-id-3 div.sk-label label {font-family: monospace;font-weight: bold;display: inline-block;line-height: 1.2em;}#sk-container-id-3 div.sk-label-container {text-align: center;}#sk-container-id-3 div.sk-container {/* jupyter's `normalize.less` sets `[hidden] { display: none; }` but bootstrap.min.css set `[hidden] { display: none !important; }` so we also need the `!important` here to be able to override the default hidden behavior on the sphinx rendered scikit-learn.org. See: https://github.com/scikit-learn/scikit-learn/issues/21755 */display: inline-block !important;position: relative;}#sk-container-id-3 div.sk-text-repr-fallback {display: none;}</style><div id=\"sk-container-id-3\" class=\"sk-top-container\"><div class=\"sk-text-repr-fallback\"><pre>SVC(C=70, gamma=0.01, random_state=1)</pre><b>In a Jupyter environment, please rerun this cell to show the HTML representation or trust the notebook. <br />On GitHub, the HTML representation is unable to render, please try loading this page with nbviewer.org.</b></div><div class=\"sk-container\" hidden><div class=\"sk-item\"><div class=\"sk-estimator sk-toggleable\"><input class=\"sk-toggleable__control sk-hidden--visually\" id=\"sk-estimator-id-5\" type=\"checkbox\" checked><label for=\"sk-estimator-id-5\" class=\"sk-toggleable__label sk-toggleable__label-arrow\">SVC</label><div class=\"sk-toggleable__content\"><pre>SVC(C=70, gamma=0.01, random_state=1)</pre></div></div></div></div></div>"
      ],
      "text/plain": [
       "SVC(C=70, gamma=0.01, random_state=1)"
      ]
     },
     "execution_count": 22,
     "metadata": {},
     "output_type": "execute_result"
    }
   ],
   "source": [
    "model=SVC(C=70,gamma=0.01,random_state=1)\n",
    "model.fit(x_smote,y_smote)"
   ]
  },
  {
   "cell_type": "code",
   "execution_count": 23,
   "id": "21848be6",
   "metadata": {},
   "outputs": [],
   "source": [
    "y_pred=model.predict(x_train)\n"
   ]
  },
  {
   "cell_type": "code",
   "execution_count": 25,
   "id": "780eece0",
   "metadata": {},
   "outputs": [
    {
     "name": "stdout",
     "output_type": "stream",
     "text": [
      "This is train model of Supper Vector Machine [4 3 2 3 3 3 3 3 3 3 2 3 2 4 3 3 3 3 3 3 3 3 3 3 2 2 3 4 3 2 3 3 4 3 3 4 3\n",
      " 3 3 3 3 3 3 3 2 3 3 4 2 3 2 3 3 4 3 3 3 3 3 2 3 2 3 3 3 3 3 3 3 3 3 2 3 3\n",
      " 3 3 3 3 2 3 2 3 3 3 2 3 3 3 3 3 3 3 3 3 2 2 2 3 3 4 2 2 2 3 4 4 2 3 3 3 3\n",
      " 3 3 3 2 2 2 3 3 2 2 3 3 4 3 3 2 3 3 3 3 3 2 3 3 3 3 3 2 3 3 3 3 3 3 4 3 3\n",
      " 3 3 3 4 3 3 2 2 3 3 3 4 3 3 3 3 3 3 3 3 3 4 3 2 3 3 3 3 3 3 3 3 3 3 3 3 3\n",
      " 3 2 3 3 3 3 2 4 3 2 3 2 3 3 4 2 2 2 3 3 3 3 3 2 3 3 3 3 2 3 4 2 3 2 4 3 3\n",
      " 2 3 3 4 2 3 3 2 3 3 3 2 3 3 3 3 2 3 4 3 3 3 3 3 3 2 3 3 3 3 3 3 3 2 3 4 2\n",
      " 4 3 3 3 3 3 3 3 3 2 3 4 3 3 3 3 3 3 3 2 3 2 4 3 3 3 3 3 3 3 3 3 4 2 4 3 2\n",
      " 3 3 3 3 2 3 3 3 3 3 2 3 3 2 3 2 3 4 3 4 3 3 2 3 3 3 3 3 3 3 3 3 3 3 3 2 3\n",
      " 3 3 3 3 3 3 3 3 4 2 3 3 3 2 4 3 4 3 2 2 4 3 3 3 3 3 3 3 3 3 3 3 2 4 3 2 4\n",
      " 2 3 3 3 3 3 3 3 3 3 4 2 3 3 3 3 3 3 3 3 3 2 3 3 4 3 3 3 2 2 3 2 4 4 3 3 3\n",
      " 3 3 3 3 3 3 3 3 3 2 3 4 4 4 3 3 3 3 3 2 3 3 3 2 3 3 3 4 2 4 2 3 2 2 4 2 3\n",
      " 3 3 3 2 2 3 3 3 3 3 3 3 4 3 3 3 3 3 2 3 3 4 2 2 3 3 4 2 2 3 3 3 3 3 3 3 3\n",
      " 3 3 3 3 3 3 3 3 3 3 3 3 3 3 4 3 4 3 3 3 3 4 3 2 4 3 3 3 4 4 3 3 3 3 3 3 3\n",
      " 2 3 3 3 3 3 3 3 3 3 4 3 3 3 3 3 3 3 3 3 3 2 2 4 4 3 3 4 2 4 3 2 3 3 3 3 3\n",
      " 2 3 3 3 2 3 2 3 2 3 4 3 3 2 3 3 3 3 3 3 2 2 3 3 3 3 3 3 3 2 3 4 2 3 2 3 3\n",
      " 2 3 3 3 4 4 3 4 2 4 3 3 3 3 3 3 2 3 3 3 3 3 4 3 3 3 3 3 3 3 3 3 3 3 3 3 3\n",
      " 3 3 3 3 3 3 3 3 3 3 4 3 3 2 3 3 3 3 3 3 3 3 3 3 3 3 3 3 3 3 3 3 3 3 4 4 3\n",
      " 3 3 3 3 3 3 2 3 3 2 2 3 3 3 3 3 3 3 3 4 3 3 3 4 3 3 3 2 3 2 2 3 3 3 3 3 3\n",
      " 2 4 3 3 3 4 3 3 3 2 3 4 3 3 3 3 2 2 2 3 3 3 3 4 4 3 3 3 3 3 2 3 3 3 3 4 3\n",
      " 3 3 4 3 3 3 3 3 3 3 3 3 3 3 4 3 3 3 3 3 2 3 3 3 3 3 2 3 2 3 3 3 3 3 4 3 2\n",
      " 3 3 3 3 3 3 3 3 4 2 3 3 4 2 3 3 3 3 3 3 3 3 2 3 3 3 2 3 3 2 3 3 3 4 3 3 3\n",
      " 3 4 3 4 3 2 3 3 3 4 3 2 3 3 2 3 2 3 3 2 3 2 3 2 4 4]\n"
     ]
    }
   ],
   "source": [
    "print(\"This is train model of Supper Vector Machine\",y_pred)"
   ]
  },
  {
   "cell_type": "code",
   "execution_count": null,
   "id": "41bbb63b",
   "metadata": {},
   "outputs": [],
   "source": []
  },
  {
   "cell_type": "markdown",
   "id": "349d17d0",
   "metadata": {},
   "source": [
    "### Gradient Boosting Algorithm"
   ]
  },
  {
   "cell_type": "code",
   "execution_count": 26,
   "id": "1f970b11",
   "metadata": {},
   "outputs": [],
   "source": [
    "## importing the model library\n",
    "from sklearn.ensemble import GradientBoostingClassifier\n",
    "GradientB=GradientBoostingClassifier() ## object creation\n",
    "y_train_GB=GradientB.fit(x_train,y_train) ## fitting the data\n"
   ]
  },
  {
   "cell_type": "code",
   "execution_count": 27,
   "id": "34e73546",
   "metadata": {},
   "outputs": [
    {
     "name": "stdout",
     "output_type": "stream",
     "text": [
      "This is train model of Gradient Boosting Algorithm       PerformanceRating\n",
      "1103                  4\n",
      "367                   3\n",
      "250                   2\n",
      "308                   3\n",
      "295                   3\n",
      "...                 ...\n",
      "466                   2\n",
      "299                   3\n",
      "493                   2\n",
      "527                   4\n",
      "1192                  4\n",
      "\n",
      "[840 rows x 1 columns]\n"
     ]
    }
   ],
   "source": [
    "print(\"This is train model of Gradient Boosting Algorithm\",y_train)"
   ]
  },
  {
   "cell_type": "markdown",
   "id": "6ed407c7",
   "metadata": {},
   "source": [
    "### K-neighbour (KNN)"
   ]
  },
  {
   "cell_type": "code",
   "execution_count": 28,
   "id": "5c0a0b0f",
   "metadata": {},
   "outputs": [
    {
     "data": {
      "text/plain": [
       "[0.36666666666666664,\n",
       " 0.3972222222222222,\n",
       " 0.33055555555555555,\n",
       " 0.33611111111111114,\n",
       " 0.2861111111111111,\n",
       " 0.28888888888888886,\n",
       " 0.275,\n",
       " 0.28888888888888886,\n",
       " 0.275,\n",
       " 0.275]"
      ]
     },
     "execution_count": 28,
     "metadata": {},
     "output_type": "execute_result"
    }
   ],
   "source": [
    "# Import KNN algorithm\n",
    "from sklearn.neighbors import KNeighborsClassifier\n",
    "# Create empty list to store error values\n",
    "error_rate = []\n",
    "\n",
    "for i in range(1, 11):\n",
    "    KNN = KNeighborsClassifier(n_neighbors=i)\n",
    "    KNN.fit(x_train, y_train)\n",
    "    y_pred = KNN.predict(x_test)\n",
    "    \n",
    "    # Convert y_test to Series and then apply .ravel()\n",
    "    error_rate.append(np.mean(y_pred != y_test.iloc[:, 0].ravel()))  # Assuming the target column is the first column\n",
    "\n",
    "error_rate"
   ]
  },
  {
   "cell_type": "code",
   "execution_count": 29,
   "id": "ae40b71f",
   "metadata": {},
   "outputs": [
    {
     "data": {
      "image/png": "[encoded data removed]",
      "text/plain": [
       "<Figure size 300x300 with 1 Axes>"
      ]
     },
     "metadata": {},
     "output_type": "display_data"
    }
   ],
   "source": [
    "plt.figure(figsize=(3,3))\n",
    "plt.plot(range(1,11),error_rate,color=\"red\",linestyle=\"dashed\",marker='o',markersize=7)\n",
    "plt.title(\"Error rate versus K (no of nearest neighbors)\")\n",
    "plt.xlabel(\"k-value\")\n",
    "plt.ylabel(\"error_rate\")\n",
    "plt.show()"
   ]
  },
  {
   "cell_type": "code",
   "execution_count": 30,
   "id": "1463d59f",
   "metadata": {},
   "outputs": [
    {
     "data": {
      "text/plain": [
       "[0.36666666666666664,\n",
       " 0.3972222222222222,\n",
       " 0.33055555555555555,\n",
       " 0.33611111111111114,\n",
       " 0.2861111111111111,\n",
       " 0.28888888888888886,\n",
       " 0.275,\n",
       " 0.28888888888888886,\n",
       " 0.275,\n",
       " 0.275]"
      ]
     },
     "execution_count": 30,
     "metadata": {},
     "output_type": "execute_result"
    }
   ],
   "source": [
    "# Import KNN algorithm\n",
    "from sklearn.neighbors import KNeighborsClassifier\n",
    "# Create empty list to store error values\n",
    "error_rate = []\n",
    "\n",
    "for i in range(1, 11):\n",
    "    KNN = KNeighborsClassifier(n_neighbors=i)\n",
    "    KNN.fit(x_train, y_train)\n",
    "    y_pred = KNN.predict(x_test)\n",
    "    \n",
    "    # Convert y_test to Series and then apply .ravel()\n",
    "    error_rate.append(np.mean(y_pred != y_test.iloc[:, 0].ravel()))  # Assuming the target column is the first column\n",
    "\n",
    "error_rate"
   ]
  },
  {
   "cell_type": "code",
   "execution_count": 31,
   "id": "e05aaaf7",
   "metadata": {},
   "outputs": [],
   "source": [
    "knn_model=KNeighborsClassifier(n_neighbors=7)\n",
    "knn_model.fit(x_train,y_train)\n",
    "y_predi=knn_model.predict(x_train)"
   ]
  },
  {
   "cell_type": "code",
   "execution_count": 32,
   "id": "b6afc9ac",
   "metadata": {},
   "outputs": [
    {
     "name": "stdout",
     "output_type": "stream",
     "text": [
      "This is train model of KNN [4 2 2 3 3 3 3 3 3 3 3 3 3 3 3 3 3 3 3 3 2 3 3 3 3 3 3 3 2 2 3 3 3 3 3 4 3\n",
      " 3 3 3 3 3 3 3 3 3 3 3 3 3 3 3 3 2 3 3 3 3 3 3 3 3 3 3 3 3 3 3 3 3 3 2 3 3\n",
      " 3 3 3 3 3 3 3 3 3 3 3 3 3 3 3 3 3 3 3 3 3 2 3 3 3 3 3 3 3 2 3 3 3 3 3 3 3\n",
      " 3 3 3 3 2 2 3 3 3 3 3 3 4 3 3 3 2 3 3 3 3 3 3 3 3 3 3 2 3 3 3 3 3 3 3 3 3\n",
      " 3 3 3 4 3 3 3 3 3 3 3 3 3 3 3 3 3 3 3 3 3 3 3 3 3 3 3 3 3 3 3 3 3 3 3 3 3\n",
      " 3 3 3 3 3 2 3 2 3 3 3 3 3 3 3 3 2 3 3 3 3 3 3 2 3 3 3 3 3 3 3 3 3 3 4 3 3\n",
      " 2 3 3 3 3 3 3 3 3 3 3 3 3 3 3 3 3 3 3 3 3 3 3 3 3 3 3 3 3 3 3 3 3 3 3 3 2\n",
      " 3 3 3 3 3 3 3 3 3 3 3 3 3 3 3 3 3 3 3 3 3 3 4 3 3 3 3 3 3 3 3 3 3 3 3 3 3\n",
      " 3 3 3 3 3 3 3 3 3 3 3 3 3 2 3 2 3 3 3 4 3 3 3 3 3 3 3 3 2 3 3 3 3 3 3 3 3\n",
      " 3 3 3 3 3 3 3 3 3 3 3 3 3 3 3 4 3 3 3 3 4 3 3 3 3 3 3 3 3 3 3 3 3 3 3 2 3\n",
      " 3 3 3 3 3 3 3 3 3 3 3 3 3 3 3 3 3 3 3 2 3 2 3 3 3 3 3 2 3 3 3 3 3 3 3 3 3\n",
      " 3 3 3 3 4 3 3 3 3 3 3 3 3 3 3 3 3 3 3 3 3 3 3 3 3 3 3 3 3 3 3 3 3 3 4 3 3\n",
      " 3 3 3 3 3 3 3 3 3 3 3 3 3 3 3 3 3 3 3 3 3 4 3 3 3 2 3 2 3 3 3 3 3 3 3 2 3\n",
      " 3 3 3 3 3 3 3 3 3 3 3 3 3 3 3 3 3 3 3 3 3 3 3 3 3 3 3 3 4 3 3 3 3 3 3 3 3\n",
      " 3 3 3 3 3 3 3 3 3 3 3 3 3 3 3 3 3 3 3 3 3 2 3 3 4 3 3 3 3 3 3 3 3 3 3 3 3\n",
      " 3 3 3 3 3 3 3 3 3 3 3 3 3 2 3 3 3 3 3 3 3 2 3 3 3 3 3 3 3 3 3 4 3 3 3 4 3\n",
      " 3 3 3 3 2 3 3 4 3 3 3 3 3 3 3 3 2 3 3 3 3 3 3 3 3 3 3 3 3 3 3 3 3 3 3 3 3\n",
      " 3 3 3 3 3 3 3 3 3 3 3 3 3 3 3 3 3 3 3 3 3 3 3 3 3 3 3 3 3 3 3 3 3 3 4 3 3\n",
      " 3 3 3 3 3 3 3 3 3 3 3 3 3 3 3 3 3 3 3 3 3 3 3 3 3 3 3 3 3 3 3 3 3 3 3 3 3\n",
      " 3 3 3 3 3 3 3 3 3 3 3 3 3 3 3 3 3 3 2 3 3 3 3 3 2 3 3 3 3 3 3 3 3 3 3 3 3\n",
      " 3 3 3 3 3 4 4 3 3 3 3 3 3 3 4 3 3 3 3 3 3 3 3 3 3 3 3 3 2 3 3 3 3 3 3 3 3\n",
      " 3 3 3 3 3 3 3 3 2 3 3 3 3 3 3 3 3 3 3 3 3 3 3 3 3 3 3 3 3 3 3 3 3 4 3 3 3\n",
      " 3 3 3 3 3 3 3 3 3 3 3 2 3 3 3 3 3 3 3 3 3 3 3 3 3 3]\n"
     ]
    }
   ],
   "source": [
    "print(\"This is train model of KNN\",y_predi)"
   ]
  },
  {
   "cell_type": "markdown",
   "id": "606fd8b0",
   "metadata": {},
   "source": [
    "### Using Deep Learning"
   ]
  },
  {
   "cell_type": "code",
   "execution_count": 33,
   "id": "040c6724",
   "metadata": {},
   "outputs": [],
   "source": [
    "## Scaling the data as the magnitude of variables are varying lot\n",
    "from sklearn.preprocessing import StandardScaler\n",
    "sc=StandardScaler() ## object creation\n",
    "sclaed_x=sc.fit_transform(x) ## transforming the data\n",
    "X = pd.DataFrame(sclaed_x,columns=x.columns) ##converting the arrays"
   ]
  },
  {
   "cell_type": "markdown",
   "id": "486e10dc",
   "metadata": {},
   "source": [
    "### ANN (Artificial Neural Network)"
   ]
  },
  {
   "cell_type": "code",
   "execution_count": 34,
   "id": "d290ce7e",
   "metadata": {},
   "outputs": [],
   "source": [
    "## model creation\n",
    "from sklearn.neural_network import MLPClassifier\n",
    "ANN = MLPClassifier( hidden_layer_sizes=(50,3),\n",
    "                       learning_rate_init=0.1,\n",
    "                       max_iter=100,\n",
    "                       random_state=2) ## model object creation max_iter=Stopping parameter\n",
    "ANN.fit(x_train,y_train) ## training the data\n",
    "y_predict_proba = ANN.predict_proba(x_test) ## predicting the pro\n",
    "## bability of class\n",
    "y_predict = ANN.predict(x_test)\n",
    "y_train_predictANN = ANN.predict(x_train)"
   ]
  },
  {
   "cell_type": "code",
   "execution_count": 35,
   "id": "b845d3d5",
   "metadata": {},
   "outputs": [
    {
     "name": "stdout",
     "output_type": "stream",
     "text": [
      "This is train model of KNN [3 3 3 3 3 3 3 3 3 3 3 3 3 3 3 3 3 3 3 3 3 3 3 3 3 3 3 3 3 3 3 3 3 3 3 3 3\n",
      " 3 3 3 3 3 3 3 3 3 3 3 3 3 3 3 3 3 3 3 3 3 3 3 3 3 3 3 3 3 3 3 3 3 3 3 3 3\n",
      " 3 3 3 3 3 3 3 3 3 3 3 3 3 3 3 3 3 3 3 3 3 3 3 3 3 3 3 3 3 3 3 3 3 3 3 3 3\n",
      " 3 3 3 3 3 3 3 3 3 3 3 3 3 3 3 3 3 3 3 3 3 3 3 3 3 3 3 3 3 3 3 3 3 3 3 3 3\n",
      " 3 3 3 3 3 3 3 3 3 3 3 3 3 3 3 3 3 3 3 3 3 3 3 3 3 3 3 3 3 3 3 3 3 3 3 3 3\n",
      " 3 3 3 3 3 3 3 3 3 3 3 3 3 3 3 3 3 3 3 3 3 3 3 3 3 3 3 3 3 3 3 3 3 3 3 3 3\n",
      " 3 3 3 3 3 3 3 3 3 3 3 3 3 3 3 3 3 3 3 3 3 3 3 3 3 3 3 3 3 3 3 3 3 3 3 3 3\n",
      " 3 3 3 3 3 3 3 3 3 3 3 3 3 3 3 3 3 3 3 3 3 3 3 3 3 3 3 3 3 3 3 3 3 3 3 3 3\n",
      " 3 3 3 3 3 3 3 3 3 3 3 3 3 3 3 3 3 3 3 3 3 3 3 3 3 3 3 3 3 3 3 3 3 3 3 3 3\n",
      " 3 3 3 3 3 3 3 3 3 3 3 3 3 3 3 3 3 3 3 3 3 3 3 3 3 3 3 3 3 3 3 3 3 3 3 3 3\n",
      " 3 3 3 3 3 3 3 3 3 3 3 3 3 3 3 3 3 3 3 3 3 3 3 3 3 3 3 3 3 3 3 3 3 3 3 3 3\n",
      " 3 3 3 3 3 3 3 3 3 3 3 3 3 3 3 3 3 3 3 3 3 3 3 3 3 3 3 3 3 3 3 3 3 3 3 3 3\n",
      " 3 3 3 3 3 3 3 3 3 3 3 3 3 3 3 3 3 3 3 3 3 3 3 3 3 3 3 3 3 3 3 3 3 3 3 3 3\n",
      " 3 3 3 3 3 3 3 3 3 3 3 3 3 3 3 3 3 3 3 3 3 3 3 3 3 3 3 3 3 3 3 3 3 3 3 3 3\n",
      " 3 3 3 3 3 3 3 3 3 3 3 3 3 3 3 3 3 3 3 3 3 3 3 3 3 3 3 3 3 3 3 3 3 3 3 3 3\n",
      " 3 3 3 3 3 3 3 3 3 3 3 3 3 3 3 3 3 3 3 3 3 3 3 3 3 3 3 3 3 3 3 3 3 3 3 3 3\n",
      " 3 3 3 3 3 3 3 3 3 3 3 3 3 3 3 3 3 3 3 3 3 3 3 3 3 3 3 3 3 3 3 3 3 3 3 3 3\n",
      " 3 3 3 3 3 3 3 3 3 3 3 3 3 3 3 3 3 3 3 3 3 3 3 3 3 3 3 3 3 3 3 3 3 3 3 3 3\n",
      " 3 3 3 3 3 3 3 3 3 3 3 3 3 3 3 3 3 3 3 3 3 3 3 3 3 3 3 3 3 3 3 3 3 3 3 3 3\n",
      " 3 3 3 3 3 3 3 3 3 3 3 3 3 3 3 3 3 3 3 3 3 3 3 3 3 3 3 3 3 3 3 3 3 3 3 3 3\n",
      " 3 3 3 3 3 3 3 3 3 3 3 3 3 3 3 3 3 3 3 3 3 3 3 3 3 3 3 3 3 3 3 3 3 3 3 3 3\n",
      " 3 3 3 3 3 3 3 3 3 3 3 3 3 3 3 3 3 3 3 3 3 3 3 3 3 3 3 3 3 3 3 3 3 3 3 3 3\n",
      " 3 3 3 3 3 3 3 3 3 3 3 3 3 3 3 3 3 3 3 3 3 3 3 3 3 3]\n"
     ]
    }
   ],
   "source": [
    "print(\"This is train model of KNN\",y_train_predictANN)"
   ]
  },
  {
   "cell_type": "code",
   "execution_count": null,
   "id": "7bc78547",
   "metadata": {},
   "outputs": [],
   "source": []
  },
  {
   "cell_type": "code",
   "execution_count": 37,
   "id": "86f61bd6",
   "metadata": {},
   "outputs": [
    {
     "name": "stdout",
     "output_type": "stream",
     "text": [
      "The train moled score achieved using Decision Tree is: [4 3 2 3 3 3 3 3 3 3 2 3 2 4 3 3 3 3 3 3 3 3 3 3 2 2 3 4 3 2 3 3 4 3 3 4 3\n",
      " 3 3 3 3 3 3 3 2 3 3 4 2 3 2 3 3 4 3 3 3 3 3 2 3 2 3 3 3 3 3 3 3 3 3 2 3 3\n",
      " 3 3 3 3 2 3 2 3 3 3 2 3 3 3 3 3 3 3 3 3 2 2 2 3 3 4 2 2 2 3 4 4 2 3 3 3 3\n",
      " 3 3 3 2 2 2 3 3 2 2 3 3 4 3 3 2 3 3 3 3 3 2 3 3 3 3 3 2 3 3 3 3 3 3 4 3 3\n",
      " 3 3 3 4 3 3 2 2 3 3 3 4 3 3 3 3 3 3 3 3 3 4 3 2 3 3 3 3 3 3 3 3 3 3 3 3 3\n",
      " 3 2 3 3 3 3 2 4 3 2 3 2 3 3 4 2 2 2 3 3 3 3 3 2 3 3 3 3 2 3 4 2 3 2 4 3 3\n",
      " 2 3 3 4 2 3 3 2 3 3 3 2 3 3 3 3 2 3 4 3 3 3 3 3 3 2 3 3 3 3 3 3 3 2 3 4 2\n",
      " 4 3 3 3 3 3 3 3 3 2 3 4 3 3 3 3 3 3 3 2 3 2 4 3 3 3 3 3 3 3 3 3 4 2 4 3 2\n",
      " 3 3 3 3 2 3 3 3 3 3 2 3 3 2 3 2 3 4 3 4 3 3 2 3 3 3 3 3 3 3 3 3 3 3 3 2 3\n",
      " 3 3 3 3 3 3 3 3 4 2 3 3 3 2 4 3 4 3 2 2 4 3 3 3 3 3 3 3 3 3 3 3 2 4 3 2 4\n",
      " 2 3 3 3 3 3 3 3 3 3 4 2 3 3 3 3 3 3 3 3 3 2 3 3 4 3 3 3 2 2 3 2 4 4 3 3 3\n",
      " 3 3 3 3 3 3 3 3 3 2 3 4 4 4 3 3 3 3 3 2 3 3 3 2 3 3 3 4 2 4 2 3 2 2 4 2 3\n",
      " 3 3 3 2 2 3 3 3 3 3 3 3 4 3 3 3 3 3 2 3 3 4 2 2 3 3 4 2 2 3 3 3 3 3 3 3 3\n",
      " 3 3 3 3 3 3 3 3 3 3 3 3 3 3 4 3 4 3 3 3 3 4 3 2 4 3 3 3 4 4 3 3 3 3 3 3 3\n",
      " 2 3 3 3 3 3 3 3 3 3 4 3 3 3 3 3 3 3 3 3 3 2 2 4 4 3 3 4 2 4 3 2 3 3 3 3 3\n",
      " 2 3 3 3 2 3 2 3 2 3 4 3 3 2 3 3 3 3 3 3 2 2 3 3 3 3 3 3 3 2 3 4 2 3 2 3 3\n",
      " 2 3 3 3 4 4 3 4 2 4 3 3 3 3 3 3 2 3 3 3 3 3 4 3 3 3 3 3 3 3 3 3 3 3 3 3 3\n",
      " 3 3 3 3 3 3 3 3 3 3 4 3 3 2 3 3 3 3 3 3 3 3 3 3 3 3 3 3 3 3 3 3 3 3 4 4 3\n",
      " 3 3 3 3 3 3 2 3 3 2 2 3 3 3 3 3 3 3 3 4 3 3 3 4 3 3 3 2 3 2 2 3 3 3 3 3 3\n",
      " 2 4 3 3 3 4 3 3 3 2 3 4 3 3 3 3 2 2 2 3 3 3 3 4 4 3 3 3 3 3 2 3 3 3 3 4 3\n",
      " 3 3 4 3 3 3 3 3 3 3 3 3 3 3 4 3 3 3 3 3 2 3 3 3 3 3 2 3 2 3 3 3 3 3 4 3 2\n",
      " 3 3 3 3 3 3 3 3 4 2 3 3 4 2 3 3 3 3 3 3 3 3 2 3 3 3 2 3 3 2 3 3 3 4 3 3 3\n",
      " 3 4 3 4 3 2 3 3 3 4 3 2 3 3 2 3 2 3 3 2 3 2 3 2 4 4] %\n",
      "The train moled score achieved using Random Forest is: [4 3 2 3 3 3 3 3 3 3 2 3 2 4 3 3 3 3 3 3 3 3 3 3 2 2 3 4 3 2 3 3 4 3 3 4 3\n",
      " 3 3 3 3 3 3 3 2 3 3 4 2 3 2 3 3 4 3 3 3 3 3 2 3 2 3 3 3 3 3 3 3 3 3 2 3 3\n",
      " 3 3 3 3 2 3 2 3 3 3 2 3 3 3 3 3 3 3 3 3 2 2 2 3 3 4 2 2 2 3 4 4 2 3 3 3 3\n",
      " 3 3 3 2 2 2 3 3 2 2 3 3 4 3 3 2 3 3 3 3 3 2 3 3 3 3 3 2 3 3 3 3 3 3 4 3 3\n",
      " 3 3 3 4 3 3 2 2 3 3 3 4 3 3 3 3 3 3 3 3 3 4 3 2 3 3 3 3 3 3 3 3 3 3 3 3 3\n",
      " 3 2 3 3 3 3 2 4 3 2 3 2 3 3 4 2 2 2 3 3 3 3 3 2 3 3 3 3 2 3 4 2 3 2 4 3 3\n",
      " 2 3 3 4 2 3 3 2 3 3 3 2 3 3 3 3 2 3 4 3 3 3 3 3 3 2 3 3 3 3 3 3 3 2 3 4 2\n",
      " 4 3 3 3 3 3 3 3 3 2 3 4 3 3 3 3 3 3 3 2 3 2 4 3 3 3 3 3 3 3 3 3 4 2 4 3 2\n",
      " 3 3 3 3 2 3 3 3 3 3 2 3 3 2 3 2 3 4 3 4 3 3 2 3 3 3 3 3 3 3 3 3 3 3 3 2 3\n",
      " 3 3 3 3 3 3 3 3 4 2 3 3 3 2 4 3 4 3 2 2 4 3 3 3 3 3 3 3 3 3 3 3 2 4 3 2 4\n",
      " 2 3 3 3 3 3 3 3 3 3 4 2 3 3 3 3 3 3 3 3 3 2 3 3 4 3 3 3 2 2 3 2 4 4 3 3 3\n",
      " 3 3 3 3 3 3 3 3 3 2 3 4 4 4 3 3 3 3 3 2 3 3 3 2 3 3 3 4 2 4 2 3 2 2 4 2 3\n",
      " 3 3 3 2 2 3 3 3 3 3 3 3 4 3 3 3 3 3 2 3 3 4 2 2 3 3 4 2 2 3 3 3 3 3 3 3 3\n",
      " 3 3 3 3 3 3 3 3 3 3 3 3 3 3 4 3 4 3 3 3 3 4 3 2 4 3 3 3 4 4 3 3 3 3 3 3 3\n",
      " 2 3 3 3 3 3 3 3 3 3 4 3 3 3 3 3 3 3 3 3 3 2 2 4 4 3 3 4 2 4 3 2 3 3 3 3 3\n",
      " 2 3 3 3 2 3 2 3 2 3 4 3 3 2 3 3 3 3 3 3 2 2 3 3 3 3 3 3 3 2 3 4 2 3 2 3 3\n",
      " 2 3 3 3 4 4 3 4 2 4 3 3 3 3 3 3 2 3 3 3 3 3 4 3 3 3 3 3 3 3 3 3 3 3 3 3 3\n",
      " 3 3 3 3 3 3 3 3 3 3 4 3 3 2 3 3 3 3 3 3 3 3 3 3 3 3 3 3 3 3 3 3 3 3 4 4 3\n",
      " 3 3 3 3 3 3 2 3 3 2 2 3 3 3 3 3 3 3 3 4 3 3 3 4 3 3 3 2 3 2 2 3 3 3 3 3 3\n",
      " 2 4 3 3 3 4 3 3 3 2 3 4 3 3 3 3 2 2 2 3 3 3 3 4 4 3 3 3 3 3 2 3 3 3 3 4 3\n",
      " 3 3 4 3 3 3 3 3 3 3 3 3 3 3 4 3 3 3 3 3 2 3 3 3 3 3 2 3 2 3 3 3 3 3 4 3 2\n",
      " 3 3 3 3 3 3 3 3 4 2 3 3 4 2 3 3 3 3 3 3 3 3 2 3 3 3 2 3 3 2 3 3 3 4 3 3 3\n",
      " 3 4 3 4 3 2 3 3 3 4 3 2 3 3 2 3 2 3 3 2 3 2 3 2 4 4] %\n",
      "The train moled score achieved using Supper Vector Machine is: [3 3 3 3 4 3 3 3 3 3 3 3 3 3 3 3 3 3 3 3 3 3 3 4 3 3 3 3 3 3 3 3 3 3 3 3 3\n",
      " 3 3 2 3 3 3 3 3 3 3 3 3 3 2 3 3 2 3 3 3 3 3 3 3 3 3 3 3 4 3 3 3 3 3 3 3 3\n",
      " 3 3 3 3 3 3 3 3 3 3 3 3 3 3 3 3 3 3 3 3 3 3 3 3 3 3 3 3 3 3 3 3 3 3 3 3 3\n",
      " 3 3 3 3 3 3 3 3 3 3 3 3 3 3 3 3 3 3 3 3 3 3 3 3 3 3 3 3 3 3 3 3 3 3 3 3 3\n",
      " 3 3 3 3 3 3 2 3 3 3 3 3 3 3 3 3 3 3 3 3 3 3 3 3 3 3 3 3 3 4 3 3 3 3 3 3 3\n",
      " 3 3 3 3 3 3 3 3 3 3 3 3 3 3 3 3 3 3 3 3 3 3 3 3 3 3 3 3 3 3 3 3 3 3 3 3 3\n",
      " 3 3 3 3 3 3 3 3 3 3 3 3 3 3 3 3 3 3 3 3 3 3 3 3 3 3 3 3 3 3 3 3 3 3 3 3 3\n",
      " 3 3 3 3 3 3 3 3 3 2 3 3 3 3 3 3 3 3 3 3 3 3 3 3 3 3 3 3 3 3 3 3 3 3 2 3 3\n",
      " 3 3 3 3 2 2 3 3 3 3 3 3 3 3 3 3 3 3 3 3 3 3 3 3 3 3 3 3 3 3 3 3 3 3 3 3 3\n",
      " 3 3 3 3 2 3 3 3 3 3 3 3 2 3 3 3 3 3 3 3 3 3 3 3 3 3 3] %\n",
      "The train moled score achieved using Gradient Boosting is:       PerformanceRating\n",
      "1103                  4\n",
      "367                   3\n",
      "250                   2\n",
      "308                   3\n",
      "295                   3\n",
      "...                 ...\n",
      "466                   2\n",
      "299                   3\n",
      "493                   2\n",
      "527                   4\n",
      "1192                  4\n",
      "\n",
      "[840 rows x 1 columns] %\n",
      "The train moled score achieved using K-Nearest Neighbors is: [4 2 2 3 3 3 3 3 3 3 3 3 3 3 3 3 3 3 3 3 2 3 3 3 3 3 3 3 2 2 3 3 3 3 3 4 3\n",
      " 3 3 3 3 3 3 3 3 3 3 3 3 3 3 3 3 2 3 3 3 3 3 3 3 3 3 3 3 3 3 3 3 3 3 2 3 3\n",
      " 3 3 3 3 3 3 3 3 3 3 3 3 3 3 3 3 3 3 3 3 3 2 3 3 3 3 3 3 3 2 3 3 3 3 3 3 3\n",
      " 3 3 3 3 2 2 3 3 3 3 3 3 4 3 3 3 2 3 3 3 3 3 3 3 3 3 3 2 3 3 3 3 3 3 3 3 3\n",
      " 3 3 3 4 3 3 3 3 3 3 3 3 3 3 3 3 3 3 3 3 3 3 3 3 3 3 3 3 3 3 3 3 3 3 3 3 3\n",
      " 3 3 3 3 3 2 3 2 3 3 3 3 3 3 3 3 2 3 3 3 3 3 3 2 3 3 3 3 3 3 3 3 3 3 4 3 3\n",
      " 2 3 3 3 3 3 3 3 3 3 3 3 3 3 3 3 3 3 3 3 3 3 3 3 3 3 3 3 3 3 3 3 3 3 3 3 2\n",
      " 3 3 3 3 3 3 3 3 3 3 3 3 3 3 3 3 3 3 3 3 3 3 4 3 3 3 3 3 3 3 3 3 3 3 3 3 3\n",
      " 3 3 3 3 3 3 3 3 3 3 3 3 3 2 3 2 3 3 3 4 3 3 3 3 3 3 3 3 2 3 3 3 3 3 3 3 3\n",
      " 3 3 3 3 3 3 3 3 3 3 3 3 3 3 3 4 3 3 3 3 4 3 3 3 3 3 3 3 3 3 3 3 3 3 3 2 3\n",
      " 3 3 3 3 3 3 3 3 3 3 3 3 3 3 3 3 3 3 3 2 3 2 3 3 3 3 3 2 3 3 3 3 3 3 3 3 3\n",
      " 3 3 3 3 4 3 3 3 3 3 3 3 3 3 3 3 3 3 3 3 3 3 3 3 3 3 3 3 3 3 3 3 3 3 4 3 3\n",
      " 3 3 3 3 3 3 3 3 3 3 3 3 3 3 3 3 3 3 3 3 3 4 3 3 3 2 3 2 3 3 3 3 3 3 3 2 3\n",
      " 3 3 3 3 3 3 3 3 3 3 3 3 3 3 3 3 3 3 3 3 3 3 3 3 3 3 3 3 4 3 3 3 3 3 3 3 3\n",
      " 3 3 3 3 3 3 3 3 3 3 3 3 3 3 3 3 3 3 3 3 3 2 3 3 4 3 3 3 3 3 3 3 3 3 3 3 3\n",
      " 3 3 3 3 3 3 3 3 3 3 3 3 3 2 3 3 3 3 3 3 3 2 3 3 3 3 3 3 3 3 3 4 3 3 3 4 3\n",
      " 3 3 3 3 2 3 3 4 3 3 3 3 3 3 3 3 2 3 3 3 3 3 3 3 3 3 3 3 3 3 3 3 3 3 3 3 3\n",
      " 3 3 3 3 3 3 3 3 3 3 3 3 3 3 3 3 3 3 3 3 3 3 3 3 3 3 3 3 3 3 3 3 3 3 4 3 3\n",
      " 3 3 3 3 3 3 3 3 3 3 3 3 3 3 3 3 3 3 3 3 3 3 3 3 3 3 3 3 3 3 3 3 3 3 3 3 3\n",
      " 3 3 3 3 3 3 3 3 3 3 3 3 3 3 3 3 3 3 2 3 3 3 3 3 2 3 3 3 3 3 3 3 3 3 3 3 3\n",
      " 3 3 3 3 3 4 4 3 3 3 3 3 3 3 4 3 3 3 3 3 3 3 3 3 3 3 3 3 2 3 3 3 3 3 3 3 3\n",
      " 3 3 3 3 3 3 3 3 2 3 3 3 3 3 3 3 3 3 3 3 3 3 3 3 3 3 3 3 3 3 3 3 3 4 3 3 3\n",
      " 3 3 3 3 3 3 3 3 3 3 3 2 3 3 3 3 3 3 3 3 3 3 3 3 3 3] %\n",
      "The train moled score achieved using Artificial Nueral Network is: [3 3 3 3 3 3 3 3 3 3 3 3 3 3 3 3 3 3 3 3 3 3 3 3 3 3 3 3 3 3 3 3 3 3 3 3 3\n",
      " 3 3 3 3 3 3 3 3 3 3 3 3 3 3 3 3 3 3 3 3 3 3 3 3 3 3 3 3 3 3 3 3 3 3 3 3 3\n",
      " 3 3 3 3 3 3 3 3 3 3 3 3 3 3 3 3 3 3 3 3 3 3 3 3 3 3 3 3 3 3 3 3 3 3 3 3 3\n",
      " 3 3 3 3 3 3 3 3 3 3 3 3 3 3 3 3 3 3 3 3 3 3 3 3 3 3 3 3 3 3 3 3 3 3 3 3 3\n",
      " 3 3 3 3 3 3 3 3 3 3 3 3 3 3 3 3 3 3 3 3 3 3 3 3 3 3 3 3 3 3 3 3 3 3 3 3 3\n",
      " 3 3 3 3 3 3 3 3 3 3 3 3 3 3 3 3 3 3 3 3 3 3 3 3 3 3 3 3 3 3 3 3 3 3 3 3 3\n",
      " 3 3 3 3 3 3 3 3 3 3 3 3 3 3 3 3 3 3 3 3 3 3 3 3 3 3 3 3 3 3 3 3 3 3 3 3 3\n",
      " 3 3 3 3 3 3 3 3 3 3 3 3 3 3 3 3 3 3 3 3 3 3 3 3 3 3 3 3 3 3 3 3 3 3 3 3 3\n",
      " 3 3 3 3 3 3 3 3 3 3 3 3 3 3 3 3 3 3 3 3 3 3 3 3 3 3 3 3 3 3 3 3 3 3 3 3 3\n",
      " 3 3 3 3 3 3 3 3 3 3 3 3 3 3 3 3 3 3 3 3 3 3 3 3 3 3 3 3 3 3 3 3 3 3 3 3 3\n",
      " 3 3 3 3 3 3 3 3 3 3 3 3 3 3 3 3 3 3 3 3 3 3 3 3 3 3 3 3 3 3 3 3 3 3 3 3 3\n",
      " 3 3 3 3 3 3 3 3 3 3 3 3 3 3 3 3 3 3 3 3 3 3 3 3 3 3 3 3 3 3 3 3 3 3 3 3 3\n",
      " 3 3 3 3 3 3 3 3 3 3 3 3 3 3 3 3 3 3 3 3 3 3 3 3 3 3 3 3 3 3 3 3 3 3 3 3 3\n",
      " 3 3 3 3 3 3 3 3 3 3 3 3 3 3 3 3 3 3 3 3 3 3 3 3 3 3 3 3 3 3 3 3 3 3 3 3 3\n",
      " 3 3 3 3 3 3 3 3 3 3 3 3 3 3 3 3 3 3 3 3 3 3 3 3 3 3 3 3 3 3 3 3 3 3 3 3 3\n",
      " 3 3 3 3 3 3 3 3 3 3 3 3 3 3 3 3 3 3 3 3 3 3 3 3 3 3 3 3 3 3 3 3 3 3 3 3 3\n",
      " 3 3 3 3 3 3 3 3 3 3 3 3 3 3 3 3 3 3 3 3 3 3 3 3 3 3 3 3 3 3 3 3 3 3 3 3 3\n",
      " 3 3 3 3 3 3 3 3 3 3 3 3 3 3 3 3 3 3 3 3 3 3 3 3 3 3 3 3 3 3 3 3 3 3 3 3 3\n",
      " 3 3 3 3 3 3 3 3 3 3 3 3 3 3 3 3 3 3 3 3 3 3 3 3 3 3 3 3 3 3 3 3 3 3 3 3 3\n",
      " 3 3 3 3 3 3 3 3 3 3 3 3 3 3 3 3 3 3 3 3 3 3 3 3 3 3 3 3 3 3 3 3 3 3 3 3 3\n",
      " 3 3 3 3 3 3 3 3 3 3 3 3 3 3 3 3 3 3 3 3 3 3 3 3 3 3 3 3 3 3 3 3 3 3 3 3 3\n",
      " 3 3 3 3 3 3 3 3 3 3 3 3 3 3 3 3 3 3 3 3 3 3 3 3 3 3 3 3 3 3 3 3 3 3 3 3 3\n",
      " 3 3 3 3 3 3 3 3 3 3 3 3 3 3 3 3 3 3 3 3 3 3 3 3 3 3] %\n"
     ]
    }
   ],
   "source": [
    "\n",
    "Train_model = [y_train_predict,y_train_pred,y_pred,y_train,y_predi,y_train_predictANN]\n",
    "algorithms = [\"Decision Tree\",\"Random Forest\",\"Supper Vector Machine\",\"Gradient Boosting\",\"K-Nearest Neighbors\",\"Artificial Nueral Network\"]    \n",
    "\n",
    "for i in range(len(algorithms)):\n",
    "    print(\"The train moled score achieved using \"+algorithms[i]+\" is: \"+str(Train_model[i])+\" %\")"
   ]
  },
  {
   "cell_type": "code",
   "execution_count": null,
   "id": "eb5e2232",
   "metadata": {},
   "outputs": [],
   "source": [
    " "
   ]
  },
  {
   "cell_type": "markdown",
   "id": "fa0526ca",
   "metadata": {},
   "source": [
    "### For More deatail open reference directory"
   ]
  },
  {
   "cell_type": "code",
   "execution_count": null,
   "id": "374bfe8e",
   "metadata": {},
   "outputs": [],
   "source": []
  }
 ],
 "metadata": {
  "kernelspec": {
   "display_name": "Python 3 (ipykernel)",
   "language": "python",
   "name": "python3"
  },
  "language_info": {
   "codemirror_mode": {
    "name": "ipython",
    "version": 3
   },
   "file_extension": ".py",
   "mimetype": "text/x-python",
   "name": "python",
   "nbconvert_exporter": "python",
   "pygments_lexer": "ipython3",
   "version": "3.10.9"
  }
 },
 "nbformat": 4,
 "nbformat_minor": 5
}
